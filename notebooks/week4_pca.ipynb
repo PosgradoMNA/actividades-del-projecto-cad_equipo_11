{
 "cells": [
  {
   "cell_type": "markdown",
   "id": "3d1c6c06-fb51-448f-9342-f74040dfc54c",
   "metadata": {},
   "source": [
    "# PCA Analysis"
   ]
  },
  {
   "cell_type": "code",
   "execution_count": 25,
   "id": "8e9896be-e3bf-4bcf-9ead-df8e0659751e",
   "metadata": {},
   "outputs": [],
   "source": [
    "import pandas as pd\n",
    "import numpy as np\n",
    "import matplotlib.pyplot as plt\n",
    "from sklearn.decomposition import PCA\n",
    "import seaborn as sns\n",
    "from sklearn.preprocessing import StandardScaler"
   ]
  },
  {
   "cell_type": "code",
   "execution_count": 10,
   "id": "c35c655d-fe75-4489-9e8d-4415392a018f",
   "metadata": {},
   "outputs": [
    {
     "data": {
      "text/html": [
       "<div>\n",
       "<style scoped>\n",
       "    .dataframe tbody tr th:only-of-type {\n",
       "        vertical-align: middle;\n",
       "    }\n",
       "\n",
       "    .dataframe tbody tr th {\n",
       "        vertical-align: top;\n",
       "    }\n",
       "\n",
       "    .dataframe thead th {\n",
       "        text-align: right;\n",
       "    }\n",
       "</style>\n",
       "<table border=\"1\" class=\"dataframe\">\n",
       "  <thead>\n",
       "    <tr style=\"text-align: right;\">\n",
       "      <th></th>\n",
       "      <th>X1</th>\n",
       "      <th>X2</th>\n",
       "      <th>X3</th>\n",
       "      <th>X4</th>\n",
       "      <th>X5</th>\n",
       "      <th>X6</th>\n",
       "      <th>X7</th>\n",
       "      <th>X8</th>\n",
       "      <th>X9</th>\n",
       "      <th>X10</th>\n",
       "      <th>...</th>\n",
       "      <th>X15</th>\n",
       "      <th>X16</th>\n",
       "      <th>X17</th>\n",
       "      <th>X18</th>\n",
       "      <th>X19</th>\n",
       "      <th>X20</th>\n",
       "      <th>X21</th>\n",
       "      <th>X22</th>\n",
       "      <th>X23</th>\n",
       "      <th>Y</th>\n",
       "    </tr>\n",
       "  </thead>\n",
       "  <tbody>\n",
       "    <tr>\n",
       "      <th>0</th>\n",
       "      <td>20000</td>\n",
       "      <td>2.0</td>\n",
       "      <td>2.0</td>\n",
       "      <td>1.0</td>\n",
       "      <td>24.0</td>\n",
       "      <td>2.0</td>\n",
       "      <td>2.0</td>\n",
       "      <td>-1.0</td>\n",
       "      <td>-1.0</td>\n",
       "      <td>-2.0</td>\n",
       "      <td>...</td>\n",
       "      <td>0.0</td>\n",
       "      <td>0.0</td>\n",
       "      <td>0.0</td>\n",
       "      <td>0.0</td>\n",
       "      <td>689.0</td>\n",
       "      <td>0.0</td>\n",
       "      <td>0.0</td>\n",
       "      <td>0.0</td>\n",
       "      <td>0.0</td>\n",
       "      <td>1.0</td>\n",
       "    </tr>\n",
       "    <tr>\n",
       "      <th>1</th>\n",
       "      <td>120000</td>\n",
       "      <td>2.0</td>\n",
       "      <td>2.0</td>\n",
       "      <td>2.0</td>\n",
       "      <td>26.0</td>\n",
       "      <td>-1.0</td>\n",
       "      <td>2.0</td>\n",
       "      <td>0.0</td>\n",
       "      <td>0.0</td>\n",
       "      <td>0.0</td>\n",
       "      <td>...</td>\n",
       "      <td>3272.0</td>\n",
       "      <td>3455.0</td>\n",
       "      <td>3261.0</td>\n",
       "      <td>0.0</td>\n",
       "      <td>1000.0</td>\n",
       "      <td>1000.0</td>\n",
       "      <td>1000.0</td>\n",
       "      <td>0.0</td>\n",
       "      <td>2000.0</td>\n",
       "      <td>1.0</td>\n",
       "    </tr>\n",
       "  </tbody>\n",
       "</table>\n",
       "<p>2 rows × 24 columns</p>\n",
       "</div>"
      ],
      "text/plain": [
       "       X1   X2   X3   X4    X5   X6   X7   X8   X9  X10  ...     X15     X16  \\\n",
       "0   20000  2.0  2.0  1.0  24.0  2.0  2.0 -1.0 -1.0 -2.0  ...     0.0     0.0   \n",
       "1  120000  2.0  2.0  2.0  26.0 -1.0  2.0  0.0  0.0  0.0  ...  3272.0  3455.0   \n",
       "\n",
       "      X17  X18     X19     X20     X21  X22     X23    Y  \n",
       "0     0.0  0.0   689.0     0.0     0.0  0.0     0.0  1.0  \n",
       "1  3261.0  0.0  1000.0  1000.0  1000.0  0.0  2000.0  1.0  \n",
       "\n",
       "[2 rows x 24 columns]"
      ]
     },
     "execution_count": 10,
     "metadata": {},
     "output_type": "execute_result"
    }
   ],
   "source": [
    "df = pd.read_csv('https://raw.githubusercontent.com/PosgradoMNA/Actividades_Aprendizaje-/main/default%20of%20credit%20card%20clients.csv')\n",
    "df.drop('ID', axis=1, inplace=True)\n",
    "df.dropna(axis = 0, inplace = True) # remove empty values\n",
    "df.head(2)"
   ]
  },
  {
   "cell_type": "code",
   "execution_count": 35,
   "id": "65a339ed-d42e-405d-8631-0f38e51c1cc5",
   "metadata": {},
   "outputs": [
    {
     "name": "stdout",
     "output_type": "stream",
     "text": [
      "['X1', 'X5', 'X7', 'X17', 'X18', 'X19', 'X20', 'X21', 'X22', 'X23']\n"
     ]
    }
   ],
   "source": [
    "cat_columns = ['X2', 'X3', 'X4', 'Y']\n",
    "high_corr_columuns = ['X6', 'X8', 'X9', 'X10', 'X11','X12', 'X13', 'X14', 'X15', 'X16']\n",
    "cont_columns = [v for v in df.columns.values.tolist() if v not in (cat_columns + high_corr_columuns)]\n",
    "print(cont_columns)"
   ]
  },
  {
   "cell_type": "code",
   "execution_count": 36,
   "id": "d8b8daf1-9cf4-4808-a245-f3048c7fca62",
   "metadata": {},
   "outputs": [
    {
     "data": {
      "text/html": [
       "<div>\n",
       "<style scoped>\n",
       "    .dataframe tbody tr th:only-of-type {\n",
       "        vertical-align: middle;\n",
       "    }\n",
       "\n",
       "    .dataframe tbody tr th {\n",
       "        vertical-align: top;\n",
       "    }\n",
       "\n",
       "    .dataframe thead th {\n",
       "        text-align: right;\n",
       "    }\n",
       "</style>\n",
       "<table border=\"1\" class=\"dataframe\">\n",
       "  <thead>\n",
       "    <tr style=\"text-align: right;\">\n",
       "      <th></th>\n",
       "      <th>X1</th>\n",
       "      <th>X5</th>\n",
       "      <th>X7</th>\n",
       "      <th>X17</th>\n",
       "      <th>X18</th>\n",
       "      <th>X19</th>\n",
       "      <th>X20</th>\n",
       "      <th>X21</th>\n",
       "      <th>X22</th>\n",
       "      <th>X23</th>\n",
       "    </tr>\n",
       "  </thead>\n",
       "  <tbody>\n",
       "    <tr>\n",
       "      <th>0</th>\n",
       "      <td>20000</td>\n",
       "      <td>24.0</td>\n",
       "      <td>2.0</td>\n",
       "      <td>0.0</td>\n",
       "      <td>0.0</td>\n",
       "      <td>689.0</td>\n",
       "      <td>0.0</td>\n",
       "      <td>0.0</td>\n",
       "      <td>0.0</td>\n",
       "      <td>0.0</td>\n",
       "    </tr>\n",
       "    <tr>\n",
       "      <th>1</th>\n",
       "      <td>120000</td>\n",
       "      <td>26.0</td>\n",
       "      <td>2.0</td>\n",
       "      <td>3261.0</td>\n",
       "      <td>0.0</td>\n",
       "      <td>1000.0</td>\n",
       "      <td>1000.0</td>\n",
       "      <td>1000.0</td>\n",
       "      <td>0.0</td>\n",
       "      <td>2000.0</td>\n",
       "    </tr>\n",
       "    <tr>\n",
       "      <th>2</th>\n",
       "      <td>90000</td>\n",
       "      <td>34.0</td>\n",
       "      <td>0.0</td>\n",
       "      <td>15549.0</td>\n",
       "      <td>1518.0</td>\n",
       "      <td>1500.0</td>\n",
       "      <td>1000.0</td>\n",
       "      <td>1000.0</td>\n",
       "      <td>1000.0</td>\n",
       "      <td>5000.0</td>\n",
       "    </tr>\n",
       "    <tr>\n",
       "      <th>3</th>\n",
       "      <td>50000</td>\n",
       "      <td>37.0</td>\n",
       "      <td>0.0</td>\n",
       "      <td>29547.0</td>\n",
       "      <td>2000.0</td>\n",
       "      <td>2019.0</td>\n",
       "      <td>1200.0</td>\n",
       "      <td>1100.0</td>\n",
       "      <td>1069.0</td>\n",
       "      <td>1000.0</td>\n",
       "    </tr>\n",
       "    <tr>\n",
       "      <th>4</th>\n",
       "      <td>50000</td>\n",
       "      <td>57.0</td>\n",
       "      <td>0.0</td>\n",
       "      <td>19131.0</td>\n",
       "      <td>2000.0</td>\n",
       "      <td>36681.0</td>\n",
       "      <td>10000.0</td>\n",
       "      <td>9000.0</td>\n",
       "      <td>689.0</td>\n",
       "      <td>679.0</td>\n",
       "    </tr>\n",
       "  </tbody>\n",
       "</table>\n",
       "</div>"
      ],
      "text/plain": [
       "       X1    X5   X7      X17     X18      X19      X20     X21     X22  \\\n",
       "0   20000  24.0  2.0      0.0     0.0    689.0      0.0     0.0     0.0   \n",
       "1  120000  26.0  2.0   3261.0     0.0   1000.0   1000.0  1000.0     0.0   \n",
       "2   90000  34.0  0.0  15549.0  1518.0   1500.0   1000.0  1000.0  1000.0   \n",
       "3   50000  37.0  0.0  29547.0  2000.0   2019.0   1200.0  1100.0  1069.0   \n",
       "4   50000  57.0  0.0  19131.0  2000.0  36681.0  10000.0  9000.0   689.0   \n",
       "\n",
       "      X23  \n",
       "0     0.0  \n",
       "1  2000.0  \n",
       "2  5000.0  \n",
       "3  1000.0  \n",
       "4   679.0  "
      ]
     },
     "execution_count": 36,
     "metadata": {},
     "output_type": "execute_result"
    }
   ],
   "source": [
    "df2 = df[cont_columns].copy()\n",
    "df2.head()"
   ]
  },
  {
   "cell_type": "code",
   "execution_count": 37,
   "id": "d5c93458-0885-4346-aa0e-bcff615a765d",
   "metadata": {},
   "outputs": [
    {
     "data": {
      "image/png": "[encoded data removed]",
      "text/plain": [
       "<Figure size 1440x720 with 2 Axes>"
      ]
     },
     "metadata": {
      "needs_background": "light"
     },
     "output_type": "display_data"
    }
   ],
   "source": [
    "plt.figure(figsize=[20,10])\n",
    "sns.heatmap(df2.corr(), annot=True)\n",
    "plt.show()"
   ]
  },
  {
   "cell_type": "code",
   "execution_count": 38,
   "id": "447293e1-0db2-450a-828b-a91bf18edb30",
   "metadata": {},
   "outputs": [
    {
     "name": "stdout",
     "output_type": "stream",
     "text": [
      "Total variance 22294201234.900265\n",
      "Varianza X1: 75.5%, value 16831766774.586897\n",
      "Varianza X5: 0.0%, value 84.90367152819495\n",
      "Varianza X7: 0.0%, value 1.4332178066846333\n",
      "Varianza X17: 15.92%, value 3550119982.5176053\n",
      "Varianza X18: 1.23%, value 274525912.78464437\n",
      "Varianza X19: 2.38%, value 531578391.9148982\n",
      "Varianza X20: 1.39%, value 310370604.0924965\n",
      "Varianza X21: 1.1%, value 245743419.31487602\n",
      "Varianza X22: 1.05%, value 233648119.87777698\n",
      "Varianza X23: 1.42%, value 316447943.47417647\n"
     ]
    }
   ],
   "source": [
    "def getVarianceInfo(data: pd.DataFrame):\n",
    "    totalVariance = data.var().sum()\n",
    "    print('Total variance {0}'.format(totalVariance))\n",
    "    for i in data.columns.values.tolist():\n",
    "        variance = data[i].var()\n",
    "        print(f'Varianza {i}: {((variance/totalVariance)*100).round(2)}%, value {variance}')\n",
    "getVarianceInfo(df2)"
   ]
  },
  {
   "cell_type": "code",
   "execution_count": 40,
   "id": "fbf0ac67-a8fe-463d-b310-83dc6f073531",
   "metadata": {},
   "outputs": [],
   "source": [
    "# Escalando los datos\n",
    "scaler = StandardScaler()\n",
    "df3 = pd.DataFrame(scaler.fit_transform(df2), columns=df2.columns)\n",
    "#getVarianceInfo(df3)"
   ]
  },
  {
   "cell_type": "code",
   "execution_count": 41,
   "id": "45878e00-a0d0-47d4-9d74-70e4da3d856b",
   "metadata": {},
   "outputs": [
    {
     "data": {
      "text/plain": [
       "(29958, 10)"
      ]
     },
     "execution_count": 41,
     "metadata": {},
     "output_type": "execute_result"
    }
   ],
   "source": [
    "pcs = PCA()\n",
    "components = pcs.fit_transform(df3)\n",
    "components.shape"
   ]
  }
 ],
 "metadata": {
  "kernelspec": {
   "display_name": "Python 3 (ipykernel)",
   "language": "python",
   "name": "python3"
  },
  "language_info": {
   "codemirror_mode": {
    "name": "ipython",
    "version": 3
   },
   "file_extension": ".py",
   "mimetype": "text/x-python",
   "name": "python",
   "nbconvert_exporter": "python",
   "pygments_lexer": "ipython3",
   "version": "3.9.7"
  }
 },
 "nbformat": 4,
 "nbformat_minor": 5
}
