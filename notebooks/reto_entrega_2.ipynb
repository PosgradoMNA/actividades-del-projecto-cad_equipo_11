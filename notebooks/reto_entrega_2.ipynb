{
 "cells": [
  {
   "cell_type": "markdown",
   "metadata": {},
   "source": [
    "# Reto -> Entrega 2 Clasificación-ensambles\n",
    "# Alumno: Luis José Navarrete Baduy, Rodrigo López Aguilera\n",
    "# Matrícula: A01793919, A01793071\n",
    "# Profesor: Maria de la Paz Rico\n",
    "# Fecha: 18 de noviembre del 2022"
   ]
  },
  {
   "cell_type": "code",
   "execution_count": 23,
   "metadata": {},
   "outputs": [],
   "source": [
    "import pandas as pd\n",
    "import numpy as np\n",
    "import matplotlib.pyplot as plt\n",
    "from sklearn.tree import DecisionTreeClassifier\n",
    "from sklearn.ensemble import RandomForestClassifier\n",
    "from sklearn.feature_selection import RFE\n",
    "from sklearn.model_selection import train_test_split, GridSearchCV\n",
    "from sklearn.model_selection import RepeatedStratifiedKFold, cross_val_score, validation_curve, learning_curve\n",
    "from sklearn.model_selection import cross_validate\n",
    "from sklearn.metrics import accuracy_score, precision_score, recall_score, f1_score, make_scorer, confusion_matrix\n",
    "from imblearn.pipeline import make_pipeline\n",
    "from imblearn.metrics import geometric_mean_score\n",
    "import seaborn as sns"
   ]
  },
  {
   "cell_type": "code",
   "execution_count": 24,
   "metadata": {},
   "outputs": [
    {
     "data": {
      "text/html": [
       "<div>\n",
       "<style scoped>\n",
       "    .dataframe tbody tr th:only-of-type {\n",
       "        vertical-align: middle;\n",
       "    }\n",
       "\n",
       "    .dataframe tbody tr th {\n",
       "        vertical-align: top;\n",
       "    }\n",
       "\n",
       "    .dataframe thead th {\n",
       "        text-align: right;\n",
       "    }\n",
       "</style>\n",
       "<table border=\"1\" class=\"dataframe\">\n",
       "  <thead>\n",
       "    <tr style=\"text-align: right;\">\n",
       "      <th></th>\n",
       "      <th>LONGITUD</th>\n",
       "      <th>LATITUD</th>\n",
       "      <th>ALC_mg/L</th>\n",
       "      <th>CONDUCT_mS/cm</th>\n",
       "      <th>SDT_M_mg/L</th>\n",
       "      <th>FLUORUROS_mg/L</th>\n",
       "      <th>DUR_mg/L</th>\n",
       "      <th>N_NO3_mg/L</th>\n",
       "      <th>CALIDAD_ALC_Alta</th>\n",
       "      <th>CALIDAD_ALC_Baja</th>\n",
       "      <th>...</th>\n",
       "      <th>CUMPLE_CON_CR_SI</th>\n",
       "      <th>CUMPLE_CON_HG_NO</th>\n",
       "      <th>CUMPLE_CON_HG_SI</th>\n",
       "      <th>CUMPLE_CON_PB_NO</th>\n",
       "      <th>CUMPLE_CON_PB_SI</th>\n",
       "      <th>CUMPLE_CON_MN_NO</th>\n",
       "      <th>CUMPLE_CON_MN_SI</th>\n",
       "      <th>CUMPLE_CON_FE_NO</th>\n",
       "      <th>CUMPLE_CON_FE_SI</th>\n",
       "      <th>SEMAFORO</th>\n",
       "    </tr>\n",
       "  </thead>\n",
       "  <tbody>\n",
       "    <tr>\n",
       "      <th>0</th>\n",
       "      <td>-102.02210</td>\n",
       "      <td>22.20887</td>\n",
       "      <td>229.990</td>\n",
       "      <td>940.0</td>\n",
       "      <td>603.6</td>\n",
       "      <td>0.9766</td>\n",
       "      <td>213.7320</td>\n",
       "      <td>4.184656</td>\n",
       "      <td>1</td>\n",
       "      <td>0</td>\n",
       "      <td>...</td>\n",
       "      <td>1</td>\n",
       "      <td>0</td>\n",
       "      <td>1</td>\n",
       "      <td>0</td>\n",
       "      <td>1</td>\n",
       "      <td>0</td>\n",
       "      <td>1</td>\n",
       "      <td>0</td>\n",
       "      <td>1</td>\n",
       "      <td>0</td>\n",
       "    </tr>\n",
       "    <tr>\n",
       "      <th>1</th>\n",
       "      <td>-102.20075</td>\n",
       "      <td>21.99958</td>\n",
       "      <td>231.990</td>\n",
       "      <td>608.0</td>\n",
       "      <td>445.4</td>\n",
       "      <td>0.9298</td>\n",
       "      <td>185.0514</td>\n",
       "      <td>5.750110</td>\n",
       "      <td>1</td>\n",
       "      <td>0</td>\n",
       "      <td>...</td>\n",
       "      <td>1</td>\n",
       "      <td>0</td>\n",
       "      <td>1</td>\n",
       "      <td>0</td>\n",
       "      <td>1</td>\n",
       "      <td>0</td>\n",
       "      <td>1</td>\n",
       "      <td>0</td>\n",
       "      <td>1</td>\n",
       "      <td>0</td>\n",
       "    </tr>\n",
       "    <tr>\n",
       "      <th>2</th>\n",
       "      <td>-102.28801</td>\n",
       "      <td>22.36685</td>\n",
       "      <td>204.920</td>\n",
       "      <td>532.0</td>\n",
       "      <td>342.0</td>\n",
       "      <td>1.8045</td>\n",
       "      <td>120.7190</td>\n",
       "      <td>1.449803</td>\n",
       "      <td>1</td>\n",
       "      <td>0</td>\n",
       "      <td>...</td>\n",
       "      <td>1</td>\n",
       "      <td>0</td>\n",
       "      <td>1</td>\n",
       "      <td>0</td>\n",
       "      <td>1</td>\n",
       "      <td>0</td>\n",
       "      <td>1</td>\n",
       "      <td>0</td>\n",
       "      <td>1</td>\n",
       "      <td>1</td>\n",
       "    </tr>\n",
       "    <tr>\n",
       "      <th>3</th>\n",
       "      <td>-102.29449</td>\n",
       "      <td>22.18435</td>\n",
       "      <td>327.000</td>\n",
       "      <td>686.0</td>\n",
       "      <td>478.6</td>\n",
       "      <td>1.1229</td>\n",
       "      <td>199.8790</td>\n",
       "      <td>1.258597</td>\n",
       "      <td>1</td>\n",
       "      <td>0</td>\n",
       "      <td>...</td>\n",
       "      <td>1</td>\n",
       "      <td>0</td>\n",
       "      <td>1</td>\n",
       "      <td>0</td>\n",
       "      <td>1</td>\n",
       "      <td>0</td>\n",
       "      <td>1</td>\n",
       "      <td>0</td>\n",
       "      <td>1</td>\n",
       "      <td>0</td>\n",
       "    </tr>\n",
       "    <tr>\n",
       "      <th>4</th>\n",
       "      <td>-110.24480</td>\n",
       "      <td>23.45138</td>\n",
       "      <td>309.885</td>\n",
       "      <td>1841.0</td>\n",
       "      <td>1179.0</td>\n",
       "      <td>0.2343</td>\n",
       "      <td>476.9872</td>\n",
       "      <td>15.672251</td>\n",
       "      <td>1</td>\n",
       "      <td>0</td>\n",
       "      <td>...</td>\n",
       "      <td>1</td>\n",
       "      <td>0</td>\n",
       "      <td>1</td>\n",
       "      <td>0</td>\n",
       "      <td>1</td>\n",
       "      <td>0</td>\n",
       "      <td>1</td>\n",
       "      <td>0</td>\n",
       "      <td>1</td>\n",
       "      <td>1</td>\n",
       "    </tr>\n",
       "  </tbody>\n",
       "</table>\n",
       "<p>5 rows × 213 columns</p>\n",
       "</div>"
      ],
      "text/plain": [
       "    LONGITUD   LATITUD  ALC_mg/L  CONDUCT_mS/cm  SDT_M_mg/L  FLUORUROS_mg/L  \\\n",
       "0 -102.02210  22.20887   229.990          940.0       603.6          0.9766   \n",
       "1 -102.20075  21.99958   231.990          608.0       445.4          0.9298   \n",
       "2 -102.28801  22.36685   204.920          532.0       342.0          1.8045   \n",
       "3 -102.29449  22.18435   327.000          686.0       478.6          1.1229   \n",
       "4 -110.24480  23.45138   309.885         1841.0      1179.0          0.2343   \n",
       "\n",
       "   DUR_mg/L  N_NO3_mg/L  CALIDAD_ALC_Alta  CALIDAD_ALC_Baja  ...  \\\n",
       "0  213.7320    4.184656                 1                 0  ...   \n",
       "1  185.0514    5.750110                 1                 0  ...   \n",
       "2  120.7190    1.449803                 1                 0  ...   \n",
       "3  199.8790    1.258597                 1                 0  ...   \n",
       "4  476.9872   15.672251                 1                 0  ...   \n",
       "\n",
       "   CUMPLE_CON_CR_SI  CUMPLE_CON_HG_NO  CUMPLE_CON_HG_SI  CUMPLE_CON_PB_NO  \\\n",
       "0                 1                 0                 1                 0   \n",
       "1                 1                 0                 1                 0   \n",
       "2                 1                 0                 1                 0   \n",
       "3                 1                 0                 1                 0   \n",
       "4                 1                 0                 1                 0   \n",
       "\n",
       "   CUMPLE_CON_PB_SI  CUMPLE_CON_MN_NO  CUMPLE_CON_MN_SI  CUMPLE_CON_FE_NO  \\\n",
       "0                 1                 0                 1                 0   \n",
       "1                 1                 0                 1                 0   \n",
       "2                 1                 0                 1                 0   \n",
       "3                 1                 0                 1                 0   \n",
       "4                 1                 0                 1                 0   \n",
       "\n",
       "   CUMPLE_CON_FE_SI  SEMAFORO  \n",
       "0                 1         0  \n",
       "1                 1         0  \n",
       "2                 1         1  \n",
       "3                 1         0  \n",
       "4                 1         1  \n",
       "\n",
       "[5 rows x 213 columns]"
      ]
     },
     "execution_count": 24,
     "metadata": {},
     "output_type": "execute_result"
    }
   ],
   "source": [
    "df = pd.read_csv('../data/data_subterraneos_clean.csv', encoding='ISO-8859-1')\n",
    "# Cambiando los valores de la variable SEMAFORO\n",
    "semaforo_dict = {'Verde': 0, 'Rojo': 1, 'Amarillo': 2}\n",
    "df['SEMAFORO'] = df['SEMAFORO'].replace(semaforo_dict)\n",
    "df.head()"
   ]
  },
  {
   "cell_type": "code",
   "execution_count": 25,
   "metadata": {},
   "outputs": [],
   "source": [
    "target = ['SEMAFORO']\n",
    "features = [v for v in df.columns.values.tolist() if v not in target]"
   ]
  },
  {
   "cell_type": "code",
   "execution_count": 38,
   "metadata": {},
   "outputs": [
    {
     "data": {
      "text/html": [
       "<style>#sk-container-id-3 {color: black;background-color: white;}#sk-container-id-3 pre{padding: 0;}#sk-container-id-3 div.sk-toggleable {background-color: white;}#sk-container-id-3 label.sk-toggleable__label {cursor: pointer;display: block;width: 100%;margin-bottom: 0;padding: 0.3em;box-sizing: border-box;text-align: center;}#sk-container-id-3 label.sk-toggleable__label-arrow:before {content: \"▸\";float: left;margin-right: 0.25em;color: #696969;}#sk-container-id-3 label.sk-toggleable__label-arrow:hover:before {color: black;}#sk-container-id-3 div.sk-estimator:hover label.sk-toggleable__label-arrow:before {color: black;}#sk-container-id-3 div.sk-toggleable__content {max-height: 0;max-width: 0;overflow: hidden;text-align: left;background-color: #f0f8ff;}#sk-container-id-3 div.sk-toggleable__content pre {margin: 0.2em;color: black;border-radius: 0.25em;background-color: #f0f8ff;}#sk-container-id-3 input.sk-toggleable__control:checked~div.sk-toggleable__content {max-height: 200px;max-width: 100%;overflow: auto;}#sk-container-id-3 input.sk-toggleable__control:checked~label.sk-toggleable__label-arrow:before {content: \"▾\";}#sk-container-id-3 div.sk-estimator input.sk-toggleable__control:checked~label.sk-toggleable__label {background-color: #d4ebff;}#sk-container-id-3 div.sk-label input.sk-toggleable__control:checked~label.sk-toggleable__label {background-color: #d4ebff;}#sk-container-id-3 input.sk-hidden--visually {border: 0;clip: rect(1px 1px 1px 1px);clip: rect(1px, 1px, 1px, 1px);height: 1px;margin: -1px;overflow: hidden;padding: 0;position: absolute;width: 1px;}#sk-container-id-3 div.sk-estimator {font-family: monospace;background-color: #f0f8ff;border: 1px dotted black;border-radius: 0.25em;box-sizing: border-box;margin-bottom: 0.5em;}#sk-container-id-3 div.sk-estimator:hover {background-color: #d4ebff;}#sk-container-id-3 div.sk-parallel-item::after {content: \"\";width: 100%;border-bottom: 1px solid gray;flex-grow: 1;}#sk-container-id-3 div.sk-label:hover label.sk-toggleable__label {background-color: #d4ebff;}#sk-container-id-3 div.sk-serial::before {content: \"\";position: absolute;border-left: 1px solid gray;box-sizing: border-box;top: 0;bottom: 0;left: 50%;z-index: 0;}#sk-container-id-3 div.sk-serial {display: flex;flex-direction: column;align-items: center;background-color: white;padding-right: 0.2em;padding-left: 0.2em;position: relative;}#sk-container-id-3 div.sk-item {position: relative;z-index: 1;}#sk-container-id-3 div.sk-parallel {display: flex;align-items: stretch;justify-content: center;background-color: white;position: relative;}#sk-container-id-3 div.sk-item::before, #sk-container-id-3 div.sk-parallel-item::before {content: \"\";position: absolute;border-left: 1px solid gray;box-sizing: border-box;top: 0;bottom: 0;left: 50%;z-index: -1;}#sk-container-id-3 div.sk-parallel-item {display: flex;flex-direction: column;z-index: 1;position: relative;background-color: white;}#sk-container-id-3 div.sk-parallel-item:first-child::after {align-self: flex-end;width: 50%;}#sk-container-id-3 div.sk-parallel-item:last-child::after {align-self: flex-start;width: 50%;}#sk-container-id-3 div.sk-parallel-item:only-child::after {width: 0;}#sk-container-id-3 div.sk-dashed-wrapped {border: 1px dashed gray;margin: 0 0.4em 0.5em 0.4em;box-sizing: border-box;padding-bottom: 0.4em;background-color: white;}#sk-container-id-3 div.sk-label label {font-family: monospace;font-weight: bold;display: inline-block;line-height: 1.2em;}#sk-container-id-3 div.sk-label-container {text-align: center;}#sk-container-id-3 div.sk-container {/* jupyter's `normalize.less` sets `[hidden] { display: none; }` but bootstrap.min.css set `[hidden] { display: none !important; }` so we also need the `!important` here to be able to override the default hidden behavior on the sphinx rendered scikit-learn.org. See: https://github.com/scikit-learn/scikit-learn/issues/21755 */display: inline-block !important;position: relative;}#sk-container-id-3 div.sk-text-repr-fallback {display: none;}</style><div id=\"sk-container-id-3\" class=\"sk-top-container\"><div class=\"sk-text-repr-fallback\"><pre>RFE(estimator=RandomForestClassifier(), n_features_to_select=20)</pre><b>In a Jupyter environment, please rerun this cell to show the HTML representation or trust the notebook. <br />On GitHub, the HTML representation is unable to render, please try loading this page with nbviewer.org.</b></div><div class=\"sk-container\" hidden><div class=\"sk-item sk-dashed-wrapped\"><div class=\"sk-label-container\"><div class=\"sk-label sk-toggleable\"><input class=\"sk-toggleable__control sk-hidden--visually\" id=\"sk-estimator-id-7\" type=\"checkbox\" ><label for=\"sk-estimator-id-7\" class=\"sk-toggleable__label sk-toggleable__label-arrow\">RFE</label><div class=\"sk-toggleable__content\"><pre>RFE(estimator=RandomForestClassifier(), n_features_to_select=20)</pre></div></div></div><div class=\"sk-parallel\"><div class=\"sk-parallel-item\"><div class=\"sk-item\"><div class=\"sk-label-container\"><div class=\"sk-label sk-toggleable\"><input class=\"sk-toggleable__control sk-hidden--visually\" id=\"sk-estimator-id-8\" type=\"checkbox\" ><label for=\"sk-estimator-id-8\" class=\"sk-toggleable__label sk-toggleable__label-arrow\">estimator: RandomForestClassifier</label><div class=\"sk-toggleable__content\"><pre>RandomForestClassifier()</pre></div></div></div><div class=\"sk-serial\"><div class=\"sk-item\"><div class=\"sk-estimator sk-toggleable\"><input class=\"sk-toggleable__control sk-hidden--visually\" id=\"sk-estimator-id-9\" type=\"checkbox\" ><label for=\"sk-estimator-id-9\" class=\"sk-toggleable__label sk-toggleable__label-arrow\">RandomForestClassifier</label><div class=\"sk-toggleable__content\"><pre>RandomForestClassifier()</pre></div></div></div></div></div></div></div></div></div></div>"
      ],
      "text/plain": [
       "RFE(estimator=RandomForestClassifier(), n_features_to_select=20)"
      ]
     },
     "execution_count": 38,
     "metadata": {},
     "output_type": "execute_result"
    }
   ],
   "source": [
    "# Obtener las variables mas relevantes utilizando RFE\n",
    "forest = RandomForestClassifier()\n",
    "selector = RFE(forest, n_features_to_select=20)\n",
    "selector.fit(df[features], np.ravel(df[target]))"
   ]
  },
  {
   "cell_type": "code",
   "execution_count": 39,
   "metadata": {},
   "outputs": [
    {
     "name": "stdout",
     "output_type": "stream",
     "text": [
      "['CONDUCT_mS/cm', 'SDT_M_mg/L', 'FLUORUROS_mg/L', 'DUR_mg/L', 'N_NO3_mg/L', 'CALIDAD_FLUO_Alta', 'CALIDAD_DUR_Muy dura e indeseable usos industrial y domestico', 'CALIDAD_N_NO3_No apta como FAAP', 'CALIDAD_AS_No apta como FAAP', 'CONTAMINANTES_NINGUNO', 'CUMPLE_CON_FLUO_NO', 'CUMPLE_CON_FLUO_SI', 'CUMPLE_CON_DUR_SI', 'CUMPLE_CON_CF_NO', 'CUMPLE_CON_CF_SI', 'CUMPLE_CON_NO3_NO', 'CUMPLE_CON_NO3_SI', 'CUMPLE_CON_AS_NO', 'CUMPLE_CON_MN_SI', 'CUMPLE_CON_FE_SI']\n"
     ]
    }
   ],
   "source": [
    "# Variables mas relevantes para la clasificación\n",
    "relevant_features = selector.get_feature_names_out().tolist()\n",
    "print(relevant_features)"
   ]
  },
  {
   "cell_type": "code",
   "execution_count": 40,
   "metadata": {},
   "outputs": [
    {
     "name": "stdout",
     "output_type": "stream",
     "text": [
      "(874, 20) (155, 20) (874, 1) (155, 1)\n"
     ]
    }
   ],
   "source": [
    "X_train, X_test, y_train, y_test = train_test_split(df[relevant_features], df[target], test_size=0.15, random_state=42, stratify=df[target])\n",
    "print(X_train.shape, X_test.shape, y_train.shape, y_test.shape)"
   ]
  },
  {
   "cell_type": "code",
   "execution_count": 41,
   "metadata": {},
   "outputs": [],
   "source": [
    "decision_tree = DecisionTreeClassifier()\n",
    "forest = RandomForestClassifier()"
   ]
  },
  {
   "cell_type": "code",
   "execution_count": 42,
   "metadata": {},
   "outputs": [
    {
     "name": "stdout",
     "output_type": "stream",
     "text": [
      "Model\t\t\tAccuracy\n",
      "Decision Tree       \t0.9630\t\n",
      "Random Forest       \t0.9779\t\n"
     ]
    }
   ],
   "source": [
    "models = [decision_tree, forest]\n",
    "names = ['Decision Tree', 'Random Forest']\n",
    "cross_validation = RepeatedStratifiedKFold(n_splits=5, n_repeats=3, random_state=42)\n",
    "results = list()\n",
    "print(f'Model\\t\\t\\tAccuracy')\n",
    "for i in range(len(models)):\n",
    "    scores = cross_validate(models[i], X_train, y_train, cv=cross_validation, n_jobs=-1)\n",
    "    results.append(scores)\n",
    "    print(\"%-20s\\t%.4f\\t\" % (\n",
    "        names[i],\n",
    "        np.mean(scores['test_score'])  \n",
    "    ))"
   ]
  },
  {
   "cell_type": "code",
   "execution_count": 43,
   "metadata": {},
   "outputs": [],
   "source": [
    "from sklearn.metrics import classification_report"
   ]
  },
  {
   "cell_type": "code",
   "execution_count": 44,
   "metadata": {},
   "outputs": [],
   "source": [
    "model_dc = DecisionTreeClassifier()\n",
    "model_dc.fit(X_train, np.ravel(y_train))\n",
    "y_pred_dc = model_dc.predict(X_test)\n",
    "model_rfc = RandomForestClassifier()\n",
    "model_rfc.fit(X_train, np.ravel(y_train))\n",
    "y_pred_rfc = model_rfc.predict(X_test)"
   ]
  },
  {
   "cell_type": "code",
   "execution_count": 45,
   "metadata": {},
   "outputs": [
    {
     "name": "stdout",
     "output_type": "stream",
     "text": [
      "              precision    recall  f1-score   support\n",
      "\n",
      "           0       1.00      1.00      1.00        64\n",
      "           1       0.96      0.89      0.92        54\n",
      "           2       0.85      0.95      0.90        37\n",
      "\n",
      "    accuracy                           0.95       155\n",
      "   macro avg       0.94      0.94      0.94       155\n",
      "weighted avg       0.95      0.95      0.95       155\n",
      "\n"
     ]
    }
   ],
   "source": [
    "print(classification_report(y_test, y_pred_dc))"
   ]
  },
  {
   "cell_type": "code",
   "execution_count": 46,
   "metadata": {},
   "outputs": [
    {
     "name": "stdout",
     "output_type": "stream",
     "text": [
      "              precision    recall  f1-score   support\n",
      "\n",
      "           0       1.00      1.00      1.00        64\n",
      "           1       1.00      0.87      0.93        54\n",
      "           2       0.84      1.00      0.91        37\n",
      "\n",
      "    accuracy                           0.95       155\n",
      "   macro avg       0.95      0.96      0.95       155\n",
      "weighted avg       0.96      0.95      0.96       155\n",
      "\n"
     ]
    }
   ],
   "source": [
    "print(classification_report(y_test, y_pred_rfc))"
   ]
  },
  {
   "cell_type": "code",
   "execution_count": 47,
   "metadata": {},
   "outputs": [],
   "source": [
    "def plot_cm(a):\n",
    "    # Select Confusion Matrix Size\n",
    "    plt.figure(figsize = (10,8))\n",
    "\n",
    "    # Create Confusion Matrix\n",
    "    b = sns.heatmap(a, annot=True)\n",
    "\n",
    "    # Set the Title\n",
    "    b.set(title='Confusion Matrix')\n",
    "\n",
    "    # Set the Labels\n",
    "    b.set(xlabel='Predicted', ylabel='Actual')\n",
    "\n",
    "    # Display the Confusion Matrix\n",
    "    plt.show()"
   ]
  },
  {
   "cell_type": "code",
   "execution_count": 48,
   "metadata": {},
   "outputs": [
    {
     "data": {
      "image/png": "[encoded data removed]",
      "text/plain": [
       "<Figure size 1000x800 with 2 Axes>"
      ]
     },
     "metadata": {},
     "output_type": "display_data"
    }
   ],
   "source": [
    "plot_cm(confusion_matrix(y_test, y_pred_dc))"
   ]
  },
  {
   "cell_type": "code",
   "execution_count": 49,
   "metadata": {},
   "outputs": [
    {
     "data": {
      "image/png": "[encoded data removed]",
      "text/plain": [
       "<Figure size 1000x800 with 2 Axes>"
      ]
     },
     "metadata": {},
     "output_type": "display_data"
    }
   ],
   "source": [
    "plot_cm(confusion_matrix(y_test, y_pred_rfc))"
   ]
  },
  {
   "cell_type": "code",
   "execution_count": null,
   "metadata": {},
   "outputs": [],
   "source": []
  }
 ],
 "metadata": {
  "kernelspec": {
   "display_name": "Python 3 (ipykernel)",
   "language": "python",
   "name": "python3"
  },
  "language_info": {
   "codemirror_mode": {
    "name": "ipython",
    "version": 3
   },
   "file_extension": ".py",
   "mimetype": "text/x-python",
   "name": "python",
   "nbconvert_exporter": "python",
   "pygments_lexer": "ipython3",
   "version": "3.8.5"
  },
  "vscode": {
   "interpreter": {
    "hash": "4b854f902473dd384bf2977652b4fbe81aae8d42206710df1d2c6c51d5c9268c"
   }
  }
 },
 "nbformat": 4,
 "nbformat_minor": 4
}
