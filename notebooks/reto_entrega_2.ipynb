{
 "cells": [
  {
   "cell_type": "markdown",
   "metadata": {},
   "source": [
    "# Reto -> Entrega 2 Clasificación-ensambles\n",
    "# Alumno: Luis José Navarrete Baduy, Rodrigo López Aguilera\n",
    "# Matrícula: A01793919, A01793071\n",
    "# Profesor: Maria de la Paz Rico\n",
    "# Fecha: 18 de noviembre del 2022"
   ]
  },
  {
   "cell_type": "code",
   "execution_count": 1,
   "metadata": {},
   "outputs": [],
   "source": [
    "import pandas as pd\n",
    "import numpy as np\n",
    "import matplotlib.pyplot as plt\n",
    "from sklearn.tree import DecisionTreeClassifier\n",
    "from sklearn.ensemble import RandomForestClassifier\n",
    "from sklearn.feature_selection import RFE\n",
    "from sklearn.model_selection import train_test_split, GridSearchCV\n",
    "from sklearn.model_selection import RepeatedStratifiedKFold, cross_val_score, validation_curve, learning_curve\n",
    "from sklearn.model_selection import cross_validate\n",
    "from sklearn.metrics import accuracy_score, precision_score, recall_score, f1_score, make_scorer, confusion_matrix\n",
    "from imblearn.pipeline import make_pipeline\n",
    "from imblearn.metrics import geometric_mean_score"
   ]
  },
  {
   "cell_type": "code",
   "execution_count": 2,
   "metadata": {},
   "outputs": [
    {
     "data": {
      "text/html": [
       "<div>\n",
       "<style scoped>\n",
       "    .dataframe tbody tr th:only-of-type {\n",
       "        vertical-align: middle;\n",
       "    }\n",
       "\n",
       "    .dataframe tbody tr th {\n",
       "        vertical-align: top;\n",
       "    }\n",
       "\n",
       "    .dataframe thead th {\n",
       "        text-align: right;\n",
       "    }\n",
       "</style>\n",
       "<table border=\"1\" class=\"dataframe\">\n",
       "  <thead>\n",
       "    <tr style=\"text-align: right;\">\n",
       "      <th></th>\n",
       "      <th>LONGITUD</th>\n",
       "      <th>LATITUD</th>\n",
       "      <th>ALC_mg/L</th>\n",
       "      <th>CONDUCT_mS/cm</th>\n",
       "      <th>SDT_M_mg/L</th>\n",
       "      <th>FLUORUROS_mg/L</th>\n",
       "      <th>DUR_mg/L</th>\n",
       "      <th>N_NO3_mg/L</th>\n",
       "      <th>CALIDAD_ALC_Alta</th>\n",
       "      <th>CALIDAD_ALC_Baja</th>\n",
       "      <th>...</th>\n",
       "      <th>CUMPLE_CON_CR_SI</th>\n",
       "      <th>CUMPLE_CON_HG_NO</th>\n",
       "      <th>CUMPLE_CON_HG_SI</th>\n",
       "      <th>CUMPLE_CON_PB_NO</th>\n",
       "      <th>CUMPLE_CON_PB_SI</th>\n",
       "      <th>CUMPLE_CON_MN_NO</th>\n",
       "      <th>CUMPLE_CON_MN_SI</th>\n",
       "      <th>CUMPLE_CON_FE_NO</th>\n",
       "      <th>CUMPLE_CON_FE_SI</th>\n",
       "      <th>SEMAFORO</th>\n",
       "    </tr>\n",
       "  </thead>\n",
       "  <tbody>\n",
       "    <tr>\n",
       "      <th>0</th>\n",
       "      <td>-102.288010</td>\n",
       "      <td>22.366850</td>\n",
       "      <td>204.920</td>\n",
       "      <td>532.0</td>\n",
       "      <td>342.0</td>\n",
       "      <td>1.8045</td>\n",
       "      <td>120.7190</td>\n",
       "      <td>1.449803</td>\n",
       "      <td>1</td>\n",
       "      <td>0</td>\n",
       "      <td>...</td>\n",
       "      <td>1</td>\n",
       "      <td>0</td>\n",
       "      <td>1</td>\n",
       "      <td>0</td>\n",
       "      <td>1</td>\n",
       "      <td>0</td>\n",
       "      <td>1</td>\n",
       "      <td>0</td>\n",
       "      <td>1</td>\n",
       "      <td>2</td>\n",
       "    </tr>\n",
       "    <tr>\n",
       "      <th>1</th>\n",
       "      <td>-110.244800</td>\n",
       "      <td>23.451380</td>\n",
       "      <td>309.885</td>\n",
       "      <td>1841.0</td>\n",
       "      <td>1179.0</td>\n",
       "      <td>0.2343</td>\n",
       "      <td>476.9872</td>\n",
       "      <td>15.672251</td>\n",
       "      <td>1</td>\n",
       "      <td>0</td>\n",
       "      <td>...</td>\n",
       "      <td>1</td>\n",
       "      <td>0</td>\n",
       "      <td>1</td>\n",
       "      <td>0</td>\n",
       "      <td>1</td>\n",
       "      <td>0</td>\n",
       "      <td>1</td>\n",
       "      <td>0</td>\n",
       "      <td>1</td>\n",
       "      <td>2</td>\n",
       "    </tr>\n",
       "    <tr>\n",
       "      <th>2</th>\n",
       "      <td>-110.220670</td>\n",
       "      <td>23.464930</td>\n",
       "      <td>224.475</td>\n",
       "      <td>570.3</td>\n",
       "      <td>554.8</td>\n",
       "      <td>0.2756</td>\n",
       "      <td>201.8784</td>\n",
       "      <td>8.555740</td>\n",
       "      <td>1</td>\n",
       "      <td>0</td>\n",
       "      <td>...</td>\n",
       "      <td>1</td>\n",
       "      <td>0</td>\n",
       "      <td>1</td>\n",
       "      <td>0</td>\n",
       "      <td>1</td>\n",
       "      <td>0</td>\n",
       "      <td>1</td>\n",
       "      <td>0</td>\n",
       "      <td>1</td>\n",
       "      <td>2</td>\n",
       "    </tr>\n",
       "    <tr>\n",
       "      <th>3</th>\n",
       "      <td>-109.907306</td>\n",
       "      <td>22.890500</td>\n",
       "      <td>350.760</td>\n",
       "      <td>2253.3</td>\n",
       "      <td>1160.2</td>\n",
       "      <td>0.5607</td>\n",
       "      <td>269.1712</td>\n",
       "      <td>27.600998</td>\n",
       "      <td>1</td>\n",
       "      <td>0</td>\n",
       "      <td>...</td>\n",
       "      <td>1</td>\n",
       "      <td>0</td>\n",
       "      <td>1</td>\n",
       "      <td>0</td>\n",
       "      <td>1</td>\n",
       "      <td>0</td>\n",
       "      <td>1</td>\n",
       "      <td>0</td>\n",
       "      <td>1</td>\n",
       "      <td>2</td>\n",
       "    </tr>\n",
       "    <tr>\n",
       "      <th>4</th>\n",
       "      <td>-110.054722</td>\n",
       "      <td>23.824722</td>\n",
       "      <td>332.605</td>\n",
       "      <td>1703.0</td>\n",
       "      <td>1017.8</td>\n",
       "      <td>0.5088</td>\n",
       "      <td>559.0214</td>\n",
       "      <td>0.143061</td>\n",
       "      <td>1</td>\n",
       "      <td>0</td>\n",
       "      <td>...</td>\n",
       "      <td>1</td>\n",
       "      <td>0</td>\n",
       "      <td>1</td>\n",
       "      <td>0</td>\n",
       "      <td>1</td>\n",
       "      <td>1</td>\n",
       "      <td>0</td>\n",
       "      <td>1</td>\n",
       "      <td>0</td>\n",
       "      <td>2</td>\n",
       "    </tr>\n",
       "  </tbody>\n",
       "</table>\n",
       "<p>5 rows × 212 columns</p>\n",
       "</div>"
      ],
      "text/plain": [
       "     LONGITUD    LATITUD  ALC_mg/L  CONDUCT_mS/cm  SDT_M_mg/L  FLUORUROS_mg/L  \\\n",
       "0 -102.288010  22.366850   204.920          532.0       342.0          1.8045   \n",
       "1 -110.244800  23.451380   309.885         1841.0      1179.0          0.2343   \n",
       "2 -110.220670  23.464930   224.475          570.3       554.8          0.2756   \n",
       "3 -109.907306  22.890500   350.760         2253.3      1160.2          0.5607   \n",
       "4 -110.054722  23.824722   332.605         1703.0      1017.8          0.5088   \n",
       "\n",
       "   DUR_mg/L  N_NO3_mg/L  CALIDAD_ALC_Alta  CALIDAD_ALC_Baja  ...  \\\n",
       "0  120.7190    1.449803                 1                 0  ...   \n",
       "1  476.9872   15.672251                 1                 0  ...   \n",
       "2  201.8784    8.555740                 1                 0  ...   \n",
       "3  269.1712   27.600998                 1                 0  ...   \n",
       "4  559.0214    0.143061                 1                 0  ...   \n",
       "\n",
       "   CUMPLE_CON_CR_SI  CUMPLE_CON_HG_NO  CUMPLE_CON_HG_SI  CUMPLE_CON_PB_NO  \\\n",
       "0                 1                 0                 1                 0   \n",
       "1                 1                 0                 1                 0   \n",
       "2                 1                 0                 1                 0   \n",
       "3                 1                 0                 1                 0   \n",
       "4                 1                 0                 1                 0   \n",
       "\n",
       "   CUMPLE_CON_PB_SI  CUMPLE_CON_MN_NO  CUMPLE_CON_MN_SI  CUMPLE_CON_FE_NO  \\\n",
       "0                 1                 0                 1                 0   \n",
       "1                 1                 0                 1                 0   \n",
       "2                 1                 0                 1                 0   \n",
       "3                 1                 0                 1                 0   \n",
       "4                 1                 1                 0                 1   \n",
       "\n",
       "   CUMPLE_CON_FE_SI  SEMAFORO  \n",
       "0                 1         2  \n",
       "1                 1         2  \n",
       "2                 1         2  \n",
       "3                 1         2  \n",
       "4                 0         2  \n",
       "\n",
       "[5 rows x 212 columns]"
      ]
     },
     "execution_count": 2,
     "metadata": {},
     "output_type": "execute_result"
    }
   ],
   "source": [
    "df = pd.read_csv('../data/data_subterraneos_clean.csv', encoding='ISO-8859-1')\n",
    "# Cambiando los valores de la variable SEMAFORO\n",
    "semaforo_dict = {'Verde': 1, 'Rojo': 2, 'Amarillo': 3}\n",
    "df['SEMAFORO'] = df['SEMAFORO'].replace(semaforo_dict)\n",
    "df.head()"
   ]
  },
  {
   "cell_type": "code",
   "execution_count": 36,
   "metadata": {},
   "outputs": [
    {
     "data": {
      "text/plain": [
       "['SEMAFORO']"
      ]
     },
     "execution_count": 36,
     "metadata": {},
     "output_type": "execute_result"
    }
   ],
   "source": [
    "target = ['SEMAFORO']\n",
    "features = [v for v in df.columns.values.tolist() if v not in target]"
   ]
  },
  {
   "cell_type": "code",
   "execution_count": 4,
   "metadata": {},
   "outputs": [
    {
     "data": {
      "text/html": [
       "<style>#sk-container-id-1 {color: black;background-color: white;}#sk-container-id-1 pre{padding: 0;}#sk-container-id-1 div.sk-toggleable {background-color: white;}#sk-container-id-1 label.sk-toggleable__label {cursor: pointer;display: block;width: 100%;margin-bottom: 0;padding: 0.3em;box-sizing: border-box;text-align: center;}#sk-container-id-1 label.sk-toggleable__label-arrow:before {content: \"▸\";float: left;margin-right: 0.25em;color: #696969;}#sk-container-id-1 label.sk-toggleable__label-arrow:hover:before {color: black;}#sk-container-id-1 div.sk-estimator:hover label.sk-toggleable__label-arrow:before {color: black;}#sk-container-id-1 div.sk-toggleable__content {max-height: 0;max-width: 0;overflow: hidden;text-align: left;background-color: #f0f8ff;}#sk-container-id-1 div.sk-toggleable__content pre {margin: 0.2em;color: black;border-radius: 0.25em;background-color: #f0f8ff;}#sk-container-id-1 input.sk-toggleable__control:checked~div.sk-toggleable__content {max-height: 200px;max-width: 100%;overflow: auto;}#sk-container-id-1 input.sk-toggleable__control:checked~label.sk-toggleable__label-arrow:before {content: \"▾\";}#sk-container-id-1 div.sk-estimator input.sk-toggleable__control:checked~label.sk-toggleable__label {background-color: #d4ebff;}#sk-container-id-1 div.sk-label input.sk-toggleable__control:checked~label.sk-toggleable__label {background-color: #d4ebff;}#sk-container-id-1 input.sk-hidden--visually {border: 0;clip: rect(1px 1px 1px 1px);clip: rect(1px, 1px, 1px, 1px);height: 1px;margin: -1px;overflow: hidden;padding: 0;position: absolute;width: 1px;}#sk-container-id-1 div.sk-estimator {font-family: monospace;background-color: #f0f8ff;border: 1px dotted black;border-radius: 0.25em;box-sizing: border-box;margin-bottom: 0.5em;}#sk-container-id-1 div.sk-estimator:hover {background-color: #d4ebff;}#sk-container-id-1 div.sk-parallel-item::after {content: \"\";width: 100%;border-bottom: 1px solid gray;flex-grow: 1;}#sk-container-id-1 div.sk-label:hover label.sk-toggleable__label {background-color: #d4ebff;}#sk-container-id-1 div.sk-serial::before {content: \"\";position: absolute;border-left: 1px solid gray;box-sizing: border-box;top: 0;bottom: 0;left: 50%;z-index: 0;}#sk-container-id-1 div.sk-serial {display: flex;flex-direction: column;align-items: center;background-color: white;padding-right: 0.2em;padding-left: 0.2em;position: relative;}#sk-container-id-1 div.sk-item {position: relative;z-index: 1;}#sk-container-id-1 div.sk-parallel {display: flex;align-items: stretch;justify-content: center;background-color: white;position: relative;}#sk-container-id-1 div.sk-item::before, #sk-container-id-1 div.sk-parallel-item::before {content: \"\";position: absolute;border-left: 1px solid gray;box-sizing: border-box;top: 0;bottom: 0;left: 50%;z-index: -1;}#sk-container-id-1 div.sk-parallel-item {display: flex;flex-direction: column;z-index: 1;position: relative;background-color: white;}#sk-container-id-1 div.sk-parallel-item:first-child::after {align-self: flex-end;width: 50%;}#sk-container-id-1 div.sk-parallel-item:last-child::after {align-self: flex-start;width: 50%;}#sk-container-id-1 div.sk-parallel-item:only-child::after {width: 0;}#sk-container-id-1 div.sk-dashed-wrapped {border: 1px dashed gray;margin: 0 0.4em 0.5em 0.4em;box-sizing: border-box;padding-bottom: 0.4em;background-color: white;}#sk-container-id-1 div.sk-label label {font-family: monospace;font-weight: bold;display: inline-block;line-height: 1.2em;}#sk-container-id-1 div.sk-label-container {text-align: center;}#sk-container-id-1 div.sk-container {/* jupyter's `normalize.less` sets `[hidden] { display: none; }` but bootstrap.min.css set `[hidden] { display: none !important; }` so we also need the `!important` here to be able to override the default hidden behavior on the sphinx rendered scikit-learn.org. See: https://github.com/scikit-learn/scikit-learn/issues/21755 */display: inline-block !important;position: relative;}#sk-container-id-1 div.sk-text-repr-fallback {display: none;}</style><div id=\"sk-container-id-1\" class=\"sk-top-container\"><div class=\"sk-text-repr-fallback\"><pre>RFE(estimator=RandomForestClassifier(), n_features_to_select=20)</pre><b>In a Jupyter environment, please rerun this cell to show the HTML representation or trust the notebook. <br />On GitHub, the HTML representation is unable to render, please try loading this page with nbviewer.org.</b></div><div class=\"sk-container\" hidden><div class=\"sk-item sk-dashed-wrapped\"><div class=\"sk-label-container\"><div class=\"sk-label sk-toggleable\"><input class=\"sk-toggleable__control sk-hidden--visually\" id=\"sk-estimator-id-1\" type=\"checkbox\" ><label for=\"sk-estimator-id-1\" class=\"sk-toggleable__label sk-toggleable__label-arrow\">RFE</label><div class=\"sk-toggleable__content\"><pre>RFE(estimator=RandomForestClassifier(), n_features_to_select=20)</pre></div></div></div><div class=\"sk-parallel\"><div class=\"sk-parallel-item\"><div class=\"sk-item\"><div class=\"sk-label-container\"><div class=\"sk-label sk-toggleable\"><input class=\"sk-toggleable__control sk-hidden--visually\" id=\"sk-estimator-id-2\" type=\"checkbox\" ><label for=\"sk-estimator-id-2\" class=\"sk-toggleable__label sk-toggleable__label-arrow\">estimator: RandomForestClassifier</label><div class=\"sk-toggleable__content\"><pre>RandomForestClassifier()</pre></div></div></div><div class=\"sk-serial\"><div class=\"sk-item\"><div class=\"sk-estimator sk-toggleable\"><input class=\"sk-toggleable__control sk-hidden--visually\" id=\"sk-estimator-id-3\" type=\"checkbox\" ><label for=\"sk-estimator-id-3\" class=\"sk-toggleable__label sk-toggleable__label-arrow\">RandomForestClassifier</label><div class=\"sk-toggleable__content\"><pre>RandomForestClassifier()</pre></div></div></div></div></div></div></div></div></div></div>"
      ],
      "text/plain": [
       "RFE(estimator=RandomForestClassifier(), n_features_to_select=20)"
      ]
     },
     "execution_count": 4,
     "metadata": {},
     "output_type": "execute_result"
    }
   ],
   "source": [
    "# Obtener las variables mas relevantes utilizando RFE\n",
    "forest = RandomForestClassifier()\n",
    "selector = RFE(forest, n_features_to_select=20)\n",
    "selector.fit(df[features], np.ravel(df[target]))"
   ]
  },
  {
   "cell_type": "code",
   "execution_count": 5,
   "metadata": {},
   "outputs": [
    {
     "name": "stdout",
     "output_type": "stream",
     "text": [
      "['LONGITUD', 'LATITUD', 'FLUORUROS_mg/L', 'DUR_mg/L', 'N_NO3_mg/L', 'CALIDAD_FLUO_Alta', 'CALIDAD_COLI_FEC_Contaminada', 'CALIDAD_N_NO3_No apta como FAAP', 'CALIDAD_AS_No apta como FAAP', 'CALIDAD_CR_Potable - Excelente', 'CUMPLE_CON_FLUO_NO', 'CUMPLE_CON_FLUO_SI', 'CUMPLE_CON_CF_NO', 'CUMPLE_CON_CF_SI', 'CUMPLE_CON_NO3_NO', 'CUMPLE_CON_NO3_SI', 'CUMPLE_CON_AS_NO', 'CUMPLE_CON_AS_SI', 'CUMPLE_CON_CR_NO', 'CUMPLE_CON_PB_SI']\n"
     ]
    }
   ],
   "source": [
    "# Variables mas relevantes para la clasificación\n",
    "relevant_features = selector.get_feature_names_out().tolist()\n",
    "print(relevant_features)"
   ]
  },
  {
   "cell_type": "code",
   "execution_count": 6,
   "metadata": {},
   "outputs": [
    {
     "name": "stdout",
     "output_type": "stream",
     "text": [
      "(513, 20) (91, 20) (513, 1) (91, 1)\n"
     ]
    }
   ],
   "source": [
    "X_train, X_test, y_train, y_test = train_test_split(df[relevant_features], df[target], test_size=0.15, random_state=42, stratify=df[target])\n",
    "print(X_train.shape, X_test.shape, y_train.shape, y_test.shape)"
   ]
  },
  {
   "cell_type": "code",
   "execution_count": 7,
   "metadata": {},
   "outputs": [],
   "source": [
    "decision_tree = DecisionTreeClassifier()\n",
    "forest = RandomForestClassifier()"
   ]
  },
  {
   "cell_type": "code",
   "execution_count": 10,
   "metadata": {},
   "outputs": [],
   "source": [
    "def my_accuracy(y_real, y_pred):\n",
    "    vn, fp, fn, vp = confusion_matrix(y_real, y_pred).ravel()\n",
    "    return (vp + vn) / (vp + fp + fn + vn)\n",
    "\n",
    "def my_precision(y_real, y_pred):\n",
    "    vn, fp, fn, vp = confusion_matrix(y_real, y_pred).ravel()\n",
    "    if vp + fp == 0:\n",
    "        return 0\n",
    "    return vp / (vp + fp)\n",
    "\n",
    "def my_recall(y_real, y_pred):\n",
    "    vn, fp, fn, vp = confusion_matrix(y_real, y_pred).ravel()\n",
    "    if vp + fn == 0:\n",
    "        return 0\n",
    "    return vp / (vp + fn)\n",
    "\n",
    "def my_f1score(y_real, y_pred):\n",
    "    vn, fp, fn, vp = confusion_matrix(y_real, y_pred).ravel()\n",
    "    return 2 * vp / (2 * vp + fp + fn)\n",
    "\n",
    "def my_gmean(y_real, y_pred):\n",
    "    vn, fp, fn, vp = confusion_matrix(y_real, y_pred).ravel()\n",
    "\n",
    "    recall = vp / (vp + fn)\n",
    "    especificidad = vn / (vn+fp)\n",
    "\n",
    "    gmean = np.sqrt(recall * especificidad)\n",
    "\n",
    "    return gmean"
   ]
  },
  {
   "cell_type": "code",
   "execution_count": 11,
   "metadata": {},
   "outputs": [],
   "source": [
    "def mi_LearningCurvePlot(train_sizes, train_scores, val_scores, title=None, xlabel=None, ylabel=None):\n",
    "    train_mean = np.mean(train_scores, axis=1)\n",
    "    train_std = np.std(train_scores, axis=1)\n",
    "    val_mean = np.mean(val_scores, axis=1)\n",
    "    val_std = np.std(val_scores, axis=1)\n",
    "\n",
    "    # Gráfica las curvas de aprendizaje incluyendo una región indicando la desviación estándar.\n",
    "    plt.figure(figsize=(7,6))    \n",
    "    plt.plot(train_sizes, train_mean, color='blue', marker='o', markersize=5, label='Training')\n",
    "    plt.fill_between(train_sizes, train_mean + train_std, train_mean - train_std, alpha=0.1, color='blue')\n",
    "    \n",
    "    plt.plot(train_sizes, val_mean, color='red', marker='+', markersize=5, linestyle='--', label='Validation')\n",
    "    plt.fill_between(train_sizes, val_mean + val_std, val_mean - val_std, alpha=0.1, color='red')\n",
    "    \n",
    "    if title:\n",
    "        plt.title(title)\n",
    "    \n",
    "    if xlabel:\n",
    "        plt.xlabel(xlabel)\n",
    "    \n",
    "    if ylabel:\n",
    "        plt.ylabel(ylabel)\n",
    "        \n",
    "    plt.legend(loc='lower left')\n",
    "    plt.show()"
   ]
  },
  {
   "cell_type": "code",
   "execution_count": 9,
   "metadata": {},
   "outputs": [
    {
     "name": "stdout",
     "output_type": "stream",
     "text": [
      "Model\t\t\tAccuracy Precision Recall F1 Score G-mean\n",
      "Decision Tree       \t0.9838\t0.9857\t0.9743\t0.9798\t0.9821\n",
      "Random Forest       \t0.9903\t0.9768\t1.0000\t0.9882\t0.9918\n"
     ]
    }
   ],
   "source": [
    "models = [decision_tree, forest]\n",
    "names = ['Decision Tree', 'Random Forest']\n",
    "cross_validation = RepeatedStratifiedKFold(n_splits=5, n_repeats=3, random_state=42)\n",
    "results = list()\n",
    "metrics = {\n",
    "    'accuracy': make_scorer(my_accuracy),\n",
    "    'precision': make_scorer(my_precision),\n",
    "    'recall': make_scorer(my_recall),\n",
    "    'f1_score': make_scorer(my_f1score),\n",
    "    'gmean': make_scorer(my_gmean)\n",
    "}\n",
    "# metrics = ['accuracy']\n",
    "# scores = cross_validate(forest, X_train, y_train, scoring=metrics, cv=cross_validation, n_jobs=-1)\n",
    "# scores\n",
    "print(f'Model\\t\\t\\tAccuracy Precision Recall F1 Score G-mean')\n",
    "for i in range(len(models)):\n",
    "    scores = cross_validate(models[i], X_train, y_train, scoring=metrics, cv=cross_validation, n_jobs=-1)\n",
    "    results.append(scores)\n",
    "    print(\"%-20s\\t%.4f\\t%.4f\\t%.4f\\t%.4f\\t%.4f\" % (\n",
    "        names[i],\n",
    "        np.mean(scores['test_accuracy']), \n",
    "        np.mean(scores['test_precision']),\n",
    "        np.mean(scores['test_recall']),\n",
    "        np.mean(scores['test_f1_score']),\n",
    "        np.mean(scores['test_gmean'])  \n",
    "    ))"
   ]
  },
  {
   "cell_type": "code",
   "execution_count": 12,
   "metadata": {},
   "outputs": [],
   "source": [
    "def evaluateGridModel(grid, score):    \n",
    "    print('Best value of {} obtained from best combination of parameters: {:.5f}'.format(score, grid.best_score_))\n",
    "    print('Best combination of parameters:', grid.best_params_)\n",
    "    print('Metric:', grid.scoring)\n",
    "\n",
    "def evaluate_metrics(model, X_train, y_train, X_val, y_val, metric):\n",
    "  model.fit(X_train, y_train)\n",
    "  \n",
    "  model.fit(X_train,y_train)\n",
    "  yhat = model.predict(X_val)\n",
    "\n",
    "  if metric == 'accuracy':\n",
    "    print('Accuracy score: %.4f' % model.score(X_val, y_val))\n",
    "  \n",
    "  if metric == 'precision':\n",
    "    print('Precision score: %.4f' % my_precision(y_val, yhat))\n",
    "\n",
    "  if metric == 'recall':  \n",
    "    print('Recall score: %.4f' % my_recall(y_val, yhat))\n",
    "  \n",
    "  if metric == 'f1':\n",
    "    print('F1 score: %.4f' % my_f1score(y_val, yhat))\n",
    "  \n",
    "  if metric == 'gmean':\n",
    "    print('Gmean score: %.4f' % my_gmean(y_val, yhat))"
   ]
  },
  {
   "cell_type": "code",
   "execution_count": 66,
   "metadata": {},
   "outputs": [
    {
     "name": "stdout",
     "output_type": "stream",
     "text": [
      "Best value of precision obtained from best combination of parameters: 0.98590\n",
      "Best combination of parameters: {'ccp_alpha': 0.001, 'class_weight': None, 'criterion': 'entropy', 'max_depth': 6, 'min_samples_split': 2}\n",
      "Metric: make_scorer(my_precision)\n"
     ]
    }
   ],
   "source": [
    "dtc_model = DecisionTreeClassifier()\n",
    "\n",
    "parameters = {'ccp_alpha': [0.001, 0.01, 0.1, 0.99],\n",
    "                'criterion': ['gini', 'entropy', 'log_loss'],\n",
    "                'max_depth': [3,4,5,6,7,8,9,10,15,20],\n",
    "                'min_samples_split': [2,3,4,5,6,7,8,9,10,15,20],\n",
    "                'class_weight': [None, 'balanced']}\n",
    "\n",
    "cv = RepeatedStratifiedKFold(n_splits=5, n_repeats=3, random_state=42)\n",
    "\n",
    "grid_dtc = GridSearchCV(estimator=dtc_model,\n",
    "                    param_grid=parameters,\n",
    "                    cv=cv,\n",
    "                    scoring=make_scorer(my_precision),\n",
    "                    n_jobs=-1)\n",
    "\n",
    "grid_dtc.fit(X_train, np.ravel(y_train))\n",
    "\n",
    "evaluateGridModel(grid_dtc, 'precision')"
   ]
  },
  {
   "cell_type": "code",
   "execution_count": 67,
   "metadata": {},
   "outputs": [
    {
     "name": "stdout",
     "output_type": "stream",
     "text": [
      "Best value of recall obtained from best combination of parameters: 1.00000\n",
      "Best combination of parameters: {'ccp_alpha': 0.001, 'class_weight': None, 'criterion': 'gini', 'max_depth': 3, 'min_samples_split': 3}\n",
      "Metric: make_scorer(my_recall)\n"
     ]
    }
   ],
   "source": [
    "rfc_model = RandomForestClassifier()\n",
    "\n",
    "parameters = {'ccp_alpha': [0.001, 0.01, 0.1, 0.99],\n",
    "                'criterion': ['gini', 'entropy', 'log_loss'],\n",
    "                'max_depth': [3,4,5,6,7,8,9,10],\n",
    "                'min_samples_split': [2,3,4,5,6,7,8,9,10],\n",
    "                'class_weight': [None, 'balanced', 'balanced_subsample']}\n",
    "\n",
    "cv = RepeatedStratifiedKFold(n_splits=5, n_repeats=3, random_state=42)\n",
    "\n",
    "grid_rfc = GridSearchCV(\n",
    "  estimator=rfc_model,\n",
    "  param_grid=parameters,\n",
    "  cv=cv,\n",
    "  scoring=make_scorer(my_recall),\n",
    "  n_jobs=-1\n",
    ") # parallel jobs in CPU\n",
    "\n",
    "grid_rfc.fit(X_train, np.ravel(y_train))\n",
    "\n",
    "evaluateGridModel(grid_rfc, 'recall')"
   ]
  },
  {
   "cell_type": "code",
   "execution_count": 30,
   "metadata": {},
   "outputs": [
    {
     "data": {
      "image/png": "[encoded data removed]",
      "text/plain": [
       "<Figure size 700x600 with 1 Axes>"
      ]
     },
     "metadata": {},
     "output_type": "display_data"
    },
    {
     "name": "stdout",
     "output_type": "stream",
     "text": [
      "Precision score: 1.0000\n"
     ]
    }
   ],
   "source": [
    "delta_a = np.linspace(0.01, 1, 20)\n",
    "cv = RepeatedStratifiedKFold(n_splits=5, n_repeats=3, random_state=42)\n",
    "model_dc = DecisionTreeClassifier(\n",
    "    ccp_alpha=0.001,\n",
    "    criterion='entropy',\n",
    "    max_depth=6,\n",
    "    min_samples_split=2\n",
    ")\n",
    "train_sizes, train_scores, test_scores = learning_curve(\n",
    "    model_dc,\n",
    "    X_train,\n",
    "    np.ravel(y_train),\n",
    "    train_sizes=delta_a,\n",
    "    cv=cv,\n",
    "    scoring=make_scorer(my_f1score),\n",
    "    n_jobs=-1\n",
    ")\n",
    "\n",
    "mi_LearningCurvePlot(train_sizes, train_scores, test_scores,\n",
    "                     title=\"Learnig Curve for decision tree\",\n",
    "                     xlabel=\"Samples\",\n",
    "                     ylabel=\"F1-Score\"\n",
    "                    )\n",
    "evaluate_metrics(model_dc, X_train, y_train, X_test, y_test, 'precision')"
   ]
  },
  {
   "cell_type": "code",
   "execution_count": 29,
   "metadata": {},
   "outputs": [
    {
     "data": {
      "image/png": "[encoded data removed]",
      "text/plain": [
       "<Figure size 700x600 with 1 Axes>"
      ]
     },
     "metadata": {},
     "output_type": "display_data"
    },
    {
     "name": "stderr",
     "output_type": "stream",
     "text": [
      "C:\\Users\\roroa\\AppData\\Local\\Temp\\ipykernel_8140\\630914.py:7: DataConversionWarning: A column-vector y was passed when a 1d array was expected. Please change the shape of y to (n_samples,), for example using ravel().\n",
      "  model.fit(X_train, y_train)\n",
      "C:\\Users\\roroa\\AppData\\Local\\Temp\\ipykernel_8140\\630914.py:9: DataConversionWarning: A column-vector y was passed when a 1d array was expected. Please change the shape of y to (n_samples,), for example using ravel().\n",
      "  model.fit(X_train,y_train)\n"
     ]
    },
    {
     "name": "stdout",
     "output_type": "stream",
     "text": [
      "Recall score: 1.0000\n"
     ]
    }
   ],
   "source": [
    "delta_a = np.linspace(0.01, 1, 20)\n",
    "\n",
    "model_rfc = RandomForestClassifier(\n",
    "    ccp_alpha=0.001, \n",
    "    criterion=\"gini\",    \n",
    "    max_depth=3, \n",
    "    min_samples_split=3\n",
    ")\n",
    "train_sizes, train_scores, test_scores = learning_curve(\n",
    "    model_rfc,\n",
    "    X_train,\n",
    "    np.ravel(y_train),\n",
    "    train_sizes=delta_a,\n",
    "    cv=cv,\n",
    "    scoring=make_scorer(my_recall),\n",
    "    n_jobs=-1\n",
    "    # error_score=\"raise\"\n",
    ")\n",
    "\n",
    "mi_LearningCurvePlot(train_sizes, train_scores, test_scores,\n",
    "                     title=\"Learning Curve for Random Forest\",\n",
    "                     xlabel=\"Samples\",\n",
    "                     ylabel=\"My Recall\"\n",
    "                    )\n",
    "\n",
    "evaluate_metrics(model_rfc, X_train, y_train, X_test, y_test, 'recall') "
   ]
  },
  {
   "cell_type": "code",
   "execution_count": 28,
   "metadata": {},
   "outputs": [],
   "source": [
    "from sklearn.metrics import classification_report"
   ]
  },
  {
   "cell_type": "code",
   "execution_count": 35,
   "metadata": {},
   "outputs": [
    {
     "name": "stderr",
     "output_type": "stream",
     "text": [
      "C:\\Users\\roroa\\AppData\\Local\\Temp\\ipykernel_8140\\2279864908.py:4: DataConversionWarning: A column-vector y was passed when a 1d array was expected. Please change the shape of y to (n_samples,), for example using ravel().\n",
      "  model_rfc.fit(X_train, y_train)\n"
     ]
    }
   ],
   "source": [
    "model_dc.fit(X_train, y_train)\n",
    "y_pred_dc = model_dc.predict(X_test)\n",
    "\n",
    "model_rfc.fit(X_train, y_train)\n",
    "y_pred_rfc = model_rfc.predict(X_test)"
   ]
  },
  {
   "cell_type": "code",
   "execution_count": 46,
   "metadata": {},
   "outputs": [
    {
     "name": "stdout",
     "output_type": "stream",
     "text": [
      "              precision    recall  f1-score   support\n",
      "\n",
      "           2       1.00      1.00      1.00        54\n",
      "           3       1.00      1.00      1.00        37\n",
      "\n",
      "    accuracy                           1.00        91\n",
      "   macro avg       1.00      1.00      1.00        91\n",
      "weighted avg       1.00      1.00      1.00        91\n",
      "\n"
     ]
    }
   ],
   "source": [
    "print(classification_report(y_test, y_pred_dc))"
   ]
  },
  {
   "cell_type": "code",
   "execution_count": 47,
   "metadata": {},
   "outputs": [
    {
     "name": "stdout",
     "output_type": "stream",
     "text": [
      "              precision    recall  f1-score   support\n",
      "\n",
      "           2       1.00      0.96      0.98        54\n",
      "           3       0.95      1.00      0.97        37\n",
      "\n",
      "    accuracy                           0.98        91\n",
      "   macro avg       0.97      0.98      0.98        91\n",
      "weighted avg       0.98      0.98      0.98        91\n",
      "\n"
     ]
    }
   ],
   "source": [
    "print(classification_report(y_test, y_pred_rfc))"
   ]
  },
  {
   "cell_type": "code",
   "execution_count": 51,
   "metadata": {},
   "outputs": [
    {
     "data": {
      "text/plain": [
       "array([[54,  0],\n",
       "       [ 0, 37]], dtype=int64)"
      ]
     },
     "execution_count": 51,
     "metadata": {},
     "output_type": "execute_result"
    }
   ],
   "source": [
    "confusion_matrix(y_test, y_pred_dc)"
   ]
  },
  {
   "cell_type": "code",
   "execution_count": 49,
   "metadata": {},
   "outputs": [
    {
     "data": {
      "text/plain": [
       "array([[52,  2],\n",
       "       [ 0, 37]], dtype=int64)"
      ]
     },
     "execution_count": 49,
     "metadata": {},
     "output_type": "execute_result"
    }
   ],
   "source": [
    "confusion_matrix(y_test, y_pred_rfc)"
   ]
  }
 ],
 "metadata": {
  "kernelspec": {
   "display_name": "Python 3.8.13 ('py38')",
   "language": "python",
   "name": "python3"
  },
  "language_info": {
   "codemirror_mode": {
    "name": "ipython",
    "version": 3
   },
   "file_extension": ".py",
   "mimetype": "text/x-python",
   "name": "python",
   "nbconvert_exporter": "python",
   "pygments_lexer": "ipython3",
   "version": "3.8.13"
  },
  "orig_nbformat": 4,
  "vscode": {
   "interpreter": {
    "hash": "4b854f902473dd384bf2977652b4fbe81aae8d42206710df1d2c6c51d5c9268c"
   }
  }
 },
 "nbformat": 4,
 "nbformat_minor": 2
}
