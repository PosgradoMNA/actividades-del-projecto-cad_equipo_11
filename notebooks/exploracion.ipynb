{
 "cells": [
  {
   "cell_type": "code",
   "execution_count": 172,
   "metadata": {},
   "outputs": [],
   "source": [
    "import numpy as np\n",
    "import pandas as pd\n",
    "import matplotlib.pyplot as plt\n",
    "import seaborn as sns; sns.set()"
   ]
  },
  {
   "cell_type": "code",
   "execution_count": 173,
   "metadata": {},
   "outputs": [
    {
     "data": {
      "text/html": [
       "<div>\n",
       "<style scoped>\n",
       "    .dataframe tbody tr th:only-of-type {\n",
       "        vertical-align: middle;\n",
       "    }\n",
       "\n",
       "    .dataframe tbody tr th {\n",
       "        vertical-align: top;\n",
       "    }\n",
       "\n",
       "    .dataframe thead th {\n",
       "        text-align: right;\n",
       "    }\n",
       "</style>\n",
       "<table border=\"1\" class=\"dataframe\">\n",
       "  <thead>\n",
       "    <tr style=\"text-align: right;\">\n",
       "      <th></th>\n",
       "      <th>CLAVE</th>\n",
       "      <th>SITIO</th>\n",
       "      <th>ORGANISMO_DE_CUENCA</th>\n",
       "      <th>ESTADO</th>\n",
       "      <th>MUNICIPIO</th>\n",
       "      <th>ACUIFERO</th>\n",
       "      <th>SUBTIPO</th>\n",
       "      <th>LONGITUD</th>\n",
       "      <th>LATITUD</th>\n",
       "      <th>PERIODO</th>\n",
       "      <th>...</th>\n",
       "      <th>CUMPLE_CON_DUR</th>\n",
       "      <th>CUMPLE_CON_CF</th>\n",
       "      <th>CUMPLE_CON_NO3</th>\n",
       "      <th>CUMPLE_CON_AS</th>\n",
       "      <th>CUMPLE_CON_CD</th>\n",
       "      <th>CUMPLE_CON_CR</th>\n",
       "      <th>CUMPLE_CON_HG</th>\n",
       "      <th>CUMPLE_CON_PB</th>\n",
       "      <th>CUMPLE_CON_MN</th>\n",
       "      <th>CUMPLE_CON_FE</th>\n",
       "    </tr>\n",
       "  </thead>\n",
       "  <tbody>\n",
       "    <tr>\n",
       "      <th>0</th>\n",
       "      <td>DLAGU6</td>\n",
       "      <td>POZO SAN GIL</td>\n",
       "      <td>LERMA SANTIAGO PACIFICO</td>\n",
       "      <td>AGUASCALIENTES</td>\n",
       "      <td>ASIENTOS</td>\n",
       "      <td>VALLE DE CHICALOTE</td>\n",
       "      <td>POZO</td>\n",
       "      <td>-102.02210</td>\n",
       "      <td>22.20887</td>\n",
       "      <td>2020</td>\n",
       "      <td>...</td>\n",
       "      <td>SI</td>\n",
       "      <td>SI</td>\n",
       "      <td>SI</td>\n",
       "      <td>SI</td>\n",
       "      <td>SI</td>\n",
       "      <td>SI</td>\n",
       "      <td>SI</td>\n",
       "      <td>SI</td>\n",
       "      <td>SI</td>\n",
       "      <td>SI</td>\n",
       "    </tr>\n",
       "    <tr>\n",
       "      <th>1</th>\n",
       "      <td>DLAGU6516</td>\n",
       "      <td>POZO R013 CAÑADA HONDA</td>\n",
       "      <td>LERMA SANTIAGO PACIFICO</td>\n",
       "      <td>AGUASCALIENTES</td>\n",
       "      <td>AGUASCALIENTES</td>\n",
       "      <td>VALLE DE CHICALOTE</td>\n",
       "      <td>POZO</td>\n",
       "      <td>-102.20075</td>\n",
       "      <td>21.99958</td>\n",
       "      <td>2020</td>\n",
       "      <td>...</td>\n",
       "      <td>SI</td>\n",
       "      <td>SI</td>\n",
       "      <td>SI</td>\n",
       "      <td>SI</td>\n",
       "      <td>SI</td>\n",
       "      <td>SI</td>\n",
       "      <td>SI</td>\n",
       "      <td>SI</td>\n",
       "      <td>SI</td>\n",
       "      <td>SI</td>\n",
       "    </tr>\n",
       "    <tr>\n",
       "      <th>2</th>\n",
       "      <td>DLAGU7</td>\n",
       "      <td>POZO COSIO</td>\n",
       "      <td>LERMA SANTIAGO PACIFICO</td>\n",
       "      <td>AGUASCALIENTES</td>\n",
       "      <td>COSIO</td>\n",
       "      <td>VALLE DE AGUASCALIENTES</td>\n",
       "      <td>POZO</td>\n",
       "      <td>-102.28801</td>\n",
       "      <td>22.36685</td>\n",
       "      <td>2020</td>\n",
       "      <td>...</td>\n",
       "      <td>SI</td>\n",
       "      <td>SI</td>\n",
       "      <td>SI</td>\n",
       "      <td>NO</td>\n",
       "      <td>SI</td>\n",
       "      <td>SI</td>\n",
       "      <td>SI</td>\n",
       "      <td>SI</td>\n",
       "      <td>SI</td>\n",
       "      <td>SI</td>\n",
       "    </tr>\n",
       "    <tr>\n",
       "      <th>3</th>\n",
       "      <td>DLAGU9</td>\n",
       "      <td>POZO EL SALITRILLO</td>\n",
       "      <td>LERMA SANTIAGO PACIFICO</td>\n",
       "      <td>AGUASCALIENTES</td>\n",
       "      <td>RINCON DE ROMOS</td>\n",
       "      <td>VALLE DE AGUASCALIENTES</td>\n",
       "      <td>POZO</td>\n",
       "      <td>-102.29449</td>\n",
       "      <td>22.18435</td>\n",
       "      <td>2020</td>\n",
       "      <td>...</td>\n",
       "      <td>SI</td>\n",
       "      <td>SI</td>\n",
       "      <td>SI</td>\n",
       "      <td>SI</td>\n",
       "      <td>SI</td>\n",
       "      <td>SI</td>\n",
       "      <td>SI</td>\n",
       "      <td>SI</td>\n",
       "      <td>SI</td>\n",
       "      <td>SI</td>\n",
       "    </tr>\n",
       "    <tr>\n",
       "      <th>4</th>\n",
       "      <td>DLBAJ107</td>\n",
       "      <td>RANCHO EL TECOLOTE</td>\n",
       "      <td>PENINSULA DE BAJA CALIFORNIA</td>\n",
       "      <td>BAJA CALIFORNIA SUR</td>\n",
       "      <td>LA PAZ</td>\n",
       "      <td>TODOS SANTOS</td>\n",
       "      <td>POZO</td>\n",
       "      <td>-110.24480</td>\n",
       "      <td>23.45138</td>\n",
       "      <td>2020</td>\n",
       "      <td>...</td>\n",
       "      <td>SI</td>\n",
       "      <td>SI</td>\n",
       "      <td>NO</td>\n",
       "      <td>SI</td>\n",
       "      <td>SI</td>\n",
       "      <td>SI</td>\n",
       "      <td>SI</td>\n",
       "      <td>SI</td>\n",
       "      <td>SI</td>\n",
       "      <td>SI</td>\n",
       "    </tr>\n",
       "  </tbody>\n",
       "</table>\n",
       "<p>5 rows × 57 columns</p>\n",
       "</div>"
      ],
      "text/plain": [
       "       CLAVE                   SITIO           ORGANISMO_DE_CUENCA  \\\n",
       "0     DLAGU6            POZO SAN GIL       LERMA SANTIAGO PACIFICO   \n",
       "1  DLAGU6516  POZO R013 CAÑADA HONDA       LERMA SANTIAGO PACIFICO   \n",
       "2     DLAGU7              POZO COSIO       LERMA SANTIAGO PACIFICO   \n",
       "3     DLAGU9      POZO EL SALITRILLO       LERMA SANTIAGO PACIFICO   \n",
       "4   DLBAJ107      RANCHO EL TECOLOTE  PENINSULA DE BAJA CALIFORNIA   \n",
       "\n",
       "                ESTADO        MUNICIPIO                 ACUIFERO SUBTIPO  \\\n",
       "0       AGUASCALIENTES         ASIENTOS       VALLE DE CHICALOTE    POZO   \n",
       "1       AGUASCALIENTES   AGUASCALIENTES       VALLE DE CHICALOTE    POZO   \n",
       "2       AGUASCALIENTES            COSIO  VALLE DE AGUASCALIENTES    POZO   \n",
       "3       AGUASCALIENTES  RINCON DE ROMOS  VALLE DE AGUASCALIENTES    POZO   \n",
       "4  BAJA CALIFORNIA SUR           LA PAZ             TODOS SANTOS    POZO   \n",
       "\n",
       "    LONGITUD   LATITUD  PERIODO  ...  CUMPLE_CON_DUR CUMPLE_CON_CF  \\\n",
       "0 -102.02210  22.20887     2020  ...              SI            SI   \n",
       "1 -102.20075  21.99958     2020  ...              SI            SI   \n",
       "2 -102.28801  22.36685     2020  ...              SI            SI   \n",
       "3 -102.29449  22.18435     2020  ...              SI            SI   \n",
       "4 -110.24480  23.45138     2020  ...              SI            SI   \n",
       "\n",
       "   CUMPLE_CON_NO3 CUMPLE_CON_AS  CUMPLE_CON_CD CUMPLE_CON_CR CUMPLE_CON_HG  \\\n",
       "0              SI            SI             SI            SI            SI   \n",
       "1              SI            SI             SI            SI            SI   \n",
       "2              SI            NO             SI            SI            SI   \n",
       "3              SI            SI             SI            SI            SI   \n",
       "4              NO            SI             SI            SI            SI   \n",
       "\n",
       "  CUMPLE_CON_PB CUMPLE_CON_MN CUMPLE_CON_FE  \n",
       "0            SI            SI            SI  \n",
       "1            SI            SI            SI  \n",
       "2            SI            SI            SI  \n",
       "3            SI            SI            SI  \n",
       "4            SI            SI            SI  \n",
       "\n",
       "[5 rows x 57 columns]"
      ]
     },
     "execution_count": 173,
     "metadata": {},
     "output_type": "execute_result"
    }
   ],
   "source": [
    "df = pd.read_csv('../data/Datos_de_calidad_del_agua_2020/Datos_de_calidad_del_agua_de_sitios_de_monitoreo_de_aguas_subterraneas_2020.csv', encoding='iso-8859-1')\n",
    "df.head()"
   ]
  },
  {
   "cell_type": "code",
   "execution_count": 174,
   "metadata": {},
   "outputs": [
    {
     "name": "stdout",
     "output_type": "stream",
     "text": [
      "<class 'pandas.core.frame.DataFrame'>\n",
      "RangeIndex: 1068 entries, 0 to 1067\n",
      "Data columns (total 57 columns):\n",
      " #   Column                Non-Null Count  Dtype  \n",
      "---  ------                --------------  -----  \n",
      " 0   CLAVE                 1068 non-null   object \n",
      " 1   SITIO                 1068 non-null   object \n",
      " 2   ORGANISMO_DE_CUENCA   1068 non-null   object \n",
      " 3   ESTADO                1068 non-null   object \n",
      " 4   MUNICIPIO             1068 non-null   object \n",
      " 5   ACUIFERO              1068 non-null   object \n",
      " 6   SUBTIPO               1068 non-null   object \n",
      " 7   LONGITUD              1068 non-null   float64\n",
      " 8   LATITUD               1068 non-null   float64\n",
      " 9   PERIODO               1068 non-null   int64  \n",
      " 10  ALC_mg/L              1064 non-null   float64\n",
      " 11  CALIDAD_ALC           1064 non-null   object \n",
      " 12  CONDUCT_mS/cm         1062 non-null   float64\n",
      " 13  CALIDAD_CONDUC        1062 non-null   object \n",
      " 14  SDT_mg/L              0 non-null      float64\n",
      " 15  SDT_M_mg/L            1066 non-null   object \n",
      " 16  CALIDAD_SDT_ra        1066 non-null   object \n",
      " 17  CALIDAD_SDT_salin     1066 non-null   object \n",
      " 18  FLUORUROS_mg/L        1068 non-null   object \n",
      " 19  CALIDAD_FLUO          1068 non-null   object \n",
      " 20  DUR_mg/L              1067 non-null   object \n",
      " 21  CALIDAD_DUR           1067 non-null   object \n",
      " 22  COLI_FEC_NMP/100_mL   1068 non-null   object \n",
      " 23  CALIDAD_COLI_FEC      1068 non-null   object \n",
      " 24  N_NO3_mg/L            1067 non-null   object \n",
      " 25  CALIDAD_N_NO3         1067 non-null   object \n",
      " 26  AS_TOT_mg/L           1068 non-null   object \n",
      " 27  CALIDAD_AS            1068 non-null   object \n",
      " 28  CD_TOT_mg/L           1068 non-null   object \n",
      " 29  CALIDAD_CD            1068 non-null   object \n",
      " 30  CR_TOT_mg/L           1068 non-null   object \n",
      " 31  CALIDAD_CR            1068 non-null   object \n",
      " 32  HG_TOT_mg/L           1068 non-null   object \n",
      " 33  CALIDAD_HG            1068 non-null   object \n",
      " 34  PB_TOT_mg/L           1068 non-null   object \n",
      " 35  CALIDAD_PB            1068 non-null   object \n",
      " 36  MN_TOT_mg/L           1068 non-null   object \n",
      " 37  CALIDAD_MN            1068 non-null   object \n",
      " 38  FE_TOT_mg/L           1068 non-null   object \n",
      " 39  CALIDAD_FE            1068 non-null   object \n",
      " 40  SEMAFORO              1068 non-null   object \n",
      " 41  CONTAMINANTES         634 non-null    object \n",
      " 42  CUMPLE_CON_ALC        1068 non-null   object \n",
      " 43  CUMPLE_CON_COND       1068 non-null   object \n",
      " 44  CUMPLE_CON_SDT_ra     1068 non-null   object \n",
      " 45  CUMPLE_CON_SDT_salin  1068 non-null   object \n",
      " 46  CUMPLE_CON_FLUO       1068 non-null   object \n",
      " 47  CUMPLE_CON_DUR        1068 non-null   object \n",
      " 48  CUMPLE_CON_CF         1068 non-null   object \n",
      " 49  CUMPLE_CON_NO3        1068 non-null   object \n",
      " 50  CUMPLE_CON_AS         1068 non-null   object \n",
      " 51  CUMPLE_CON_CD         1068 non-null   object \n",
      " 52  CUMPLE_CON_CR         1068 non-null   object \n",
      " 53  CUMPLE_CON_HG         1068 non-null   object \n",
      " 54  CUMPLE_CON_PB         1068 non-null   object \n",
      " 55  CUMPLE_CON_MN         1068 non-null   object \n",
      " 56  CUMPLE_CON_FE         1068 non-null   object \n",
      "dtypes: float64(5), int64(1), object(51)\n",
      "memory usage: 475.7+ KB\n"
     ]
    }
   ],
   "source": [
    "df.info()"
   ]
  },
  {
   "cell_type": "code",
   "execution_count": 175,
   "metadata": {},
   "outputs": [
    {
     "data": {
      "text/plain": [
       "SDT_M_mg/L    2\n",
       "N_NO3_mg/L    1\n",
       "DUR_mg/L      1\n",
       "dtype: int64"
      ]
     },
     "execution_count": 175,
     "metadata": {},
     "output_type": "execute_result"
    }
   ],
   "source": [
    "possible_numeric_candidates = ['SDT_M_mg/L', 'N_NO3_mg/L', 'DUR_mg/L']\n",
    "df[possible_numeric_candidates].isna().sum()"
   ]
  },
  {
   "cell_type": "code",
   "execution_count": 176,
   "metadata": {},
   "outputs": [
    {
     "data": {
      "text/plain": [
       "SDT_M_mg/L    float32\n",
       "N_NO3_mg/L    float32\n",
       "DUR_mg/L      float32\n",
       "dtype: object"
      ]
     },
     "execution_count": 176,
     "metadata": {},
     "output_type": "execute_result"
    }
   ],
   "source": [
    "df = df[df['SDT_M_mg/L'] != '<25']\n",
    "df = df[df['DUR_mg/L'] != '<20']\n",
    "df['N_NO3_mg/L'].replace('<0.02', 0, inplace=True)\n",
    "df['FLUORUROS_mg/L'].replace('<0.2')\n",
    "\n",
    "df.dropna(subset=possible_numeric_candidates, inplace=True)\n",
    "\n",
    "df = df.astype({'SDT_M_mg/L':'float32', 'N_NO3_mg/L':'float32', 'DUR_mg/L':'float32'})\n",
    "df[possible_numeric_candidates].dtypes\n"
   ]
  },
  {
   "cell_type": "code",
   "execution_count": 177,
   "metadata": {},
   "outputs": [
    {
     "data": {
      "text/html": [
       "<div>\n",
       "<style scoped>\n",
       "    .dataframe tbody tr th:only-of-type {\n",
       "        vertical-align: middle;\n",
       "    }\n",
       "\n",
       "    .dataframe tbody tr th {\n",
       "        vertical-align: top;\n",
       "    }\n",
       "\n",
       "    .dataframe thead th {\n",
       "        text-align: right;\n",
       "    }\n",
       "</style>\n",
       "<table border=\"1\" class=\"dataframe\">\n",
       "  <thead>\n",
       "    <tr style=\"text-align: right;\">\n",
       "      <th></th>\n",
       "      <th>LONGITUD</th>\n",
       "      <th>LATITUD</th>\n",
       "      <th>PERIODO</th>\n",
       "      <th>ALC_mg/L</th>\n",
       "      <th>CONDUCT_mS/cm</th>\n",
       "      <th>SDT_mg/L</th>\n",
       "      <th>SDT_M_mg/L</th>\n",
       "      <th>DUR_mg/L</th>\n",
       "      <th>N_NO3_mg/L</th>\n",
       "    </tr>\n",
       "  </thead>\n",
       "  <tbody>\n",
       "    <tr>\n",
       "      <th>0</th>\n",
       "      <td>-102.02210</td>\n",
       "      <td>22.20887</td>\n",
       "      <td>2020</td>\n",
       "      <td>229.990</td>\n",
       "      <td>940.0</td>\n",
       "      <td>NaN</td>\n",
       "      <td>603.599976</td>\n",
       "      <td>213.731995</td>\n",
       "      <td>4.184656</td>\n",
       "    </tr>\n",
       "    <tr>\n",
       "      <th>1</th>\n",
       "      <td>-102.20075</td>\n",
       "      <td>21.99958</td>\n",
       "      <td>2020</td>\n",
       "      <td>231.990</td>\n",
       "      <td>608.0</td>\n",
       "      <td>NaN</td>\n",
       "      <td>445.399994</td>\n",
       "      <td>185.051407</td>\n",
       "      <td>5.750110</td>\n",
       "    </tr>\n",
       "    <tr>\n",
       "      <th>2</th>\n",
       "      <td>-102.28801</td>\n",
       "      <td>22.36685</td>\n",
       "      <td>2020</td>\n",
       "      <td>204.920</td>\n",
       "      <td>532.0</td>\n",
       "      <td>NaN</td>\n",
       "      <td>342.000000</td>\n",
       "      <td>120.719002</td>\n",
       "      <td>1.449803</td>\n",
       "    </tr>\n",
       "    <tr>\n",
       "      <th>3</th>\n",
       "      <td>-102.29449</td>\n",
       "      <td>22.18435</td>\n",
       "      <td>2020</td>\n",
       "      <td>327.000</td>\n",
       "      <td>686.0</td>\n",
       "      <td>NaN</td>\n",
       "      <td>478.600006</td>\n",
       "      <td>199.878998</td>\n",
       "      <td>1.258597</td>\n",
       "    </tr>\n",
       "    <tr>\n",
       "      <th>4</th>\n",
       "      <td>-110.24480</td>\n",
       "      <td>23.45138</td>\n",
       "      <td>2020</td>\n",
       "      <td>309.885</td>\n",
       "      <td>1841.0</td>\n",
       "      <td>NaN</td>\n",
       "      <td>1179.000000</td>\n",
       "      <td>476.987213</td>\n",
       "      <td>15.672251</td>\n",
       "    </tr>\n",
       "  </tbody>\n",
       "</table>\n",
       "</div>"
      ],
      "text/plain": [
       "    LONGITUD   LATITUD  PERIODO  ALC_mg/L  CONDUCT_mS/cm  SDT_mg/L  \\\n",
       "0 -102.02210  22.20887     2020   229.990          940.0       NaN   \n",
       "1 -102.20075  21.99958     2020   231.990          608.0       NaN   \n",
       "2 -102.28801  22.36685     2020   204.920          532.0       NaN   \n",
       "3 -102.29449  22.18435     2020   327.000          686.0       NaN   \n",
       "4 -110.24480  23.45138     2020   309.885         1841.0       NaN   \n",
       "\n",
       "    SDT_M_mg/L    DUR_mg/L  N_NO3_mg/L  \n",
       "0   603.599976  213.731995    4.184656  \n",
       "1   445.399994  185.051407    5.750110  \n",
       "2   342.000000  120.719002    1.449803  \n",
       "3   478.600006  199.878998    1.258597  \n",
       "4  1179.000000  476.987213   15.672251  "
      ]
     },
     "execution_count": 177,
     "metadata": {},
     "output_type": "execute_result"
    }
   ],
   "source": [
    "numerics = ['int64', 'int32', 'int64', 'float16', 'float32', 'float64']\n",
    "df_numeric = df.select_dtypes(include=numerics)\n",
    "df_numeric.head()"
   ]
  },
  {
   "cell_type": "code",
   "execution_count": 178,
   "metadata": {},
   "outputs": [
    {
     "data": {
      "text/plain": [
       "LONGITUD            0\n",
       "LATITUD             0\n",
       "PERIODO             0\n",
       "ALC_mg/L            3\n",
       "CONDUCT_mS/cm       6\n",
       "SDT_mg/L         1038\n",
       "SDT_M_mg/L          0\n",
       "DUR_mg/L            0\n",
       "N_NO3_mg/L          0\n",
       "dtype: int64"
      ]
     },
     "execution_count": 178,
     "metadata": {},
     "output_type": "execute_result"
    }
   ],
   "source": [
    "df_numeric.isna().sum()"
   ]
  },
  {
   "cell_type": "code",
   "execution_count": 179,
   "metadata": {},
   "outputs": [
    {
     "data": {
      "text/plain": [
       "LONGITUD         0\n",
       "LATITUD          0\n",
       "ALC_mg/L         3\n",
       "CONDUCT_mS/cm    6\n",
       "SDT_M_mg/L       0\n",
       "DUR_mg/L         0\n",
       "N_NO3_mg/L       0\n",
       "dtype: int64"
      ]
     },
     "execution_count": 179,
     "metadata": {},
     "output_type": "execute_result"
    }
   ],
   "source": [
    "df_numeric.drop(columns=['SDT_mg/L', 'PERIODO'], inplace=True)\n",
    "df_numeric.isna().sum()"
   ]
  },
  {
   "cell_type": "code",
   "execution_count": 180,
   "metadata": {},
   "outputs": [
    {
     "data": {
      "text/html": [
       "<div>\n",
       "<style scoped>\n",
       "    .dataframe tbody tr th:only-of-type {\n",
       "        vertical-align: middle;\n",
       "    }\n",
       "\n",
       "    .dataframe tbody tr th {\n",
       "        vertical-align: top;\n",
       "    }\n",
       "\n",
       "    .dataframe thead th {\n",
       "        text-align: right;\n",
       "    }\n",
       "</style>\n",
       "<table border=\"1\" class=\"dataframe\">\n",
       "  <thead>\n",
       "    <tr style=\"text-align: right;\">\n",
       "      <th></th>\n",
       "      <th>LONGITUD</th>\n",
       "      <th>LATITUD</th>\n",
       "      <th>ALC_mg/L</th>\n",
       "      <th>CONDUCT_mS/cm</th>\n",
       "      <th>SDT_M_mg/L</th>\n",
       "      <th>DUR_mg/L</th>\n",
       "      <th>N_NO3_mg/L</th>\n",
       "    </tr>\n",
       "  </thead>\n",
       "  <tbody>\n",
       "    <tr>\n",
       "      <th>count</th>\n",
       "      <td>1029.000000</td>\n",
       "      <td>1029.000000</td>\n",
       "      <td>1029.000000</td>\n",
       "      <td>1029.000000</td>\n",
       "      <td>1029.000000</td>\n",
       "      <td>1029.000000</td>\n",
       "      <td>1029.000000</td>\n",
       "    </tr>\n",
       "    <tr>\n",
       "      <th>mean</th>\n",
       "      <td>-101.792651</td>\n",
       "      <td>23.123511</td>\n",
       "      <td>233.815209</td>\n",
       "      <td>1151.697473</td>\n",
       "      <td>906.500488</td>\n",
       "      <td>357.908478</td>\n",
       "      <td>4.375705</td>\n",
       "    </tr>\n",
       "    <tr>\n",
       "      <th>std</th>\n",
       "      <td>6.743235</td>\n",
       "      <td>3.872955</td>\n",
       "      <td>109.932567</td>\n",
       "      <td>1261.181043</td>\n",
       "      <td>2798.166016</td>\n",
       "      <td>361.593536</td>\n",
       "      <td>8.453891</td>\n",
       "    </tr>\n",
       "    <tr>\n",
       "      <th>min</th>\n",
       "      <td>-116.664250</td>\n",
       "      <td>14.561150</td>\n",
       "      <td>26.640000</td>\n",
       "      <td>110.000000</td>\n",
       "      <td>101.199997</td>\n",
       "      <td>21.940599</td>\n",
       "      <td>0.000000</td>\n",
       "    </tr>\n",
       "    <tr>\n",
       "      <th>25%</th>\n",
       "      <td>-105.355883</td>\n",
       "      <td>20.201480</td>\n",
       "      <td>165.000000</td>\n",
       "      <td>506.000000</td>\n",
       "      <td>339.000000</td>\n",
       "      <td>127.487999</td>\n",
       "      <td>0.667926</td>\n",
       "    </tr>\n",
       "    <tr>\n",
       "      <th>50%</th>\n",
       "      <td>-102.152250</td>\n",
       "      <td>22.587240</td>\n",
       "      <td>215.830000</td>\n",
       "      <td>824.000000</td>\n",
       "      <td>556.000000</td>\n",
       "      <td>257.295990</td>\n",
       "      <td>2.105194</td>\n",
       "    </tr>\n",
       "    <tr>\n",
       "      <th>75%</th>\n",
       "      <td>-98.949320</td>\n",
       "      <td>25.504700</td>\n",
       "      <td>291.720000</td>\n",
       "      <td>1337.000000</td>\n",
       "      <td>925.599976</td>\n",
       "      <td>464.618286</td>\n",
       "      <td>5.249500</td>\n",
       "    </tr>\n",
       "    <tr>\n",
       "      <th>max</th>\n",
       "      <td>-86.864120</td>\n",
       "      <td>32.677713</td>\n",
       "      <td>1650.000000</td>\n",
       "      <td>18577.000000</td>\n",
       "      <td>82170.000000</td>\n",
       "      <td>3810.692139</td>\n",
       "      <td>121.007812</td>\n",
       "    </tr>\n",
       "  </tbody>\n",
       "</table>\n",
       "</div>"
      ],
      "text/plain": [
       "          LONGITUD      LATITUD     ALC_mg/L  CONDUCT_mS/cm    SDT_M_mg/L  \\\n",
       "count  1029.000000  1029.000000  1029.000000    1029.000000   1029.000000   \n",
       "mean   -101.792651    23.123511   233.815209    1151.697473    906.500488   \n",
       "std       6.743235     3.872955   109.932567    1261.181043   2798.166016   \n",
       "min    -116.664250    14.561150    26.640000     110.000000    101.199997   \n",
       "25%    -105.355883    20.201480   165.000000     506.000000    339.000000   \n",
       "50%    -102.152250    22.587240   215.830000     824.000000    556.000000   \n",
       "75%     -98.949320    25.504700   291.720000    1337.000000    925.599976   \n",
       "max     -86.864120    32.677713  1650.000000   18577.000000  82170.000000   \n",
       "\n",
       "          DUR_mg/L   N_NO3_mg/L  \n",
       "count  1029.000000  1029.000000  \n",
       "mean    357.908478     4.375705  \n",
       "std     361.593536     8.453891  \n",
       "min      21.940599     0.000000  \n",
       "25%     127.487999     0.667926  \n",
       "50%     257.295990     2.105194  \n",
       "75%     464.618286     5.249500  \n",
       "max    3810.692139   121.007812  "
      ]
     },
     "execution_count": 180,
     "metadata": {},
     "output_type": "execute_result"
    }
   ],
   "source": [
    "df_numeric.dropna(inplace=True)\n",
    "df_numeric.describe()"
   ]
  },
  {
   "cell_type": "code",
   "execution_count": 181,
   "metadata": {},
   "outputs": [
    {
     "data": {
      "text/plain": [
       "<AxesSubplot: xlabel='ALC_mg/L'>"
      ]
     },
     "execution_count": 181,
     "metadata": {},
     "output_type": "execute_result"
    },
    {
     "data": {
      "image/png": "[encoded data removed]",
      "text/plain": [
       "<Figure size 640x480 with 1 Axes>"
      ]
     },
     "metadata": {},
     "output_type": "display_data"
    }
   ],
   "source": [
    "sns.boxplot(x=df_numeric['ALC_mg/L'])"
   ]
  },
  {
   "cell_type": "code",
   "execution_count": 182,
   "metadata": {},
   "outputs": [
    {
     "name": "stdout",
     "output_type": "stream",
     "text": [
      "Number of outliers 259\n"
     ]
    }
   ],
   "source": [
    "quantile_ALC_3 = df['ALC_mg/L'].quantile(0.75)\n",
    "outliers = (df['ALC_mg/L'] > quantile_ALC_3).sum()\n",
    "print(f'Number of outliers {outliers}')"
   ]
  },
  {
   "cell_type": "code",
   "execution_count": 183,
   "metadata": {},
   "outputs": [
    {
     "data": {
      "text/plain": [
       "<AxesSubplot: xlabel='CONDUCT_mS/cm'>"
      ]
     },
     "execution_count": 183,
     "metadata": {},
     "output_type": "execute_result"
    },
    {
     "data": {
      "image/png": "[encoded data removed]",
      "text/plain": [
       "<Figure size 640x480 with 1 Axes>"
      ]
     },
     "metadata": {},
     "output_type": "display_data"
    }
   ],
   "source": [
    "sns.boxplot(x=df_numeric['CONDUCT_mS/cm'])"
   ]
  },
  {
   "cell_type": "code",
   "execution_count": 184,
   "metadata": {},
   "outputs": [
    {
     "name": "stdout",
     "output_type": "stream",
     "text": [
      "Number of outliers 257\n"
     ]
    }
   ],
   "source": [
    "quantile_CONDUCT_3 = df_numeric['CONDUCT_mS/cm'].quantile(0.75)\n",
    "outliers = (df_numeric['CONDUCT_mS/cm'] > quantile_CONDUCT_3).sum()\n",
    "print(f'Number of outliers {outliers}')"
   ]
  },
  {
   "cell_type": "code",
   "execution_count": 185,
   "metadata": {},
   "outputs": [
    {
     "data": {
      "text/plain": [
       "<AxesSubplot: xlabel='SDT_M_mg/L'>"
      ]
     },
     "execution_count": 185,
     "metadata": {},
     "output_type": "execute_result"
    },
    {
     "data": {
      "image/png": "[encoded data removed]",
      "text/plain": [
       "<Figure size 640x480 with 1 Axes>"
      ]
     },
     "metadata": {},
     "output_type": "display_data"
    }
   ],
   "source": [
    "sns.boxplot(x=df_numeric['SDT_M_mg/L'])"
   ]
  },
  {
   "cell_type": "code",
   "execution_count": 186,
   "metadata": {},
   "outputs": [
    {
     "name": "stdout",
     "output_type": "stream",
     "text": [
      "Number of outliers 257\n"
     ]
    }
   ],
   "source": [
    "quantile_SDT_M_mg_3 = df_numeric['SDT_M_mg/L'].quantile(0.75)\n",
    "outliers = (df_numeric['SDT_M_mg/L'] > quantile_SDT_M_mg_3).sum()\n",
    "print(f'Number of outliers {outliers}')"
   ]
  },
  {
   "cell_type": "code",
   "execution_count": 187,
   "metadata": {},
   "outputs": [
    {
     "data": {
      "text/plain": [
       "<AxesSubplot: xlabel='DUR_mg/L'>"
      ]
     },
     "execution_count": 187,
     "metadata": {},
     "output_type": "execute_result"
    },
    {
     "data": {
      "image/png": "[encoded data removed]",
      "text/plain": [
       "<Figure size 640x480 with 1 Axes>"
      ]
     },
     "metadata": {},
     "output_type": "display_data"
    }
   ],
   "source": [
    "sns.boxplot(x=df_numeric['DUR_mg/L'])"
   ]
  },
  {
   "cell_type": "code",
   "execution_count": 188,
   "metadata": {},
   "outputs": [
    {
     "name": "stdout",
     "output_type": "stream",
     "text": [
      "Number of outliers 257\n"
     ]
    }
   ],
   "source": [
    "quantile_DUR_mg_3 = df_numeric['DUR_mg/L'].quantile(0.75)\n",
    "outliers = (df_numeric['DUR_mg/L'] > quantile_DUR_mg_3).sum()\n",
    "print(f'Number of outliers {outliers}')"
   ]
  },
  {
   "cell_type": "code",
   "execution_count": 189,
   "metadata": {},
   "outputs": [
    {
     "data": {
      "text/plain": [
       "<AxesSubplot: xlabel='N_NO3_mg/L'>"
      ]
     },
     "execution_count": 189,
     "metadata": {},
     "output_type": "execute_result"
    },
    {
     "data": {
      "image/png": "[encoded data removed]",
      "text/plain": [
       "<Figure size 640x480 with 1 Axes>"
      ]
     },
     "metadata": {},
     "output_type": "display_data"
    }
   ],
   "source": [
    "sns.boxplot(x=df_numeric['N_NO3_mg/L'])"
   ]
  },
  {
   "cell_type": "code",
   "execution_count": 190,
   "metadata": {},
   "outputs": [
    {
     "name": "stdout",
     "output_type": "stream",
     "text": [
      "Number of outliers 257\n"
     ]
    }
   ],
   "source": [
    "quantile_N_NO3_mg_3 = df_numeric['N_NO3_mg/L'].quantile(0.75)\n",
    "outliers = (df_numeric['N_NO3_mg/L'] > quantile_N_NO3_mg_3).sum()\n",
    "print(f'Number of outliers {outliers}')"
   ]
  },
  {
   "cell_type": "code",
   "execution_count": 191,
   "metadata": {},
   "outputs": [
    {
     "data": {
      "text/plain": [
       "<AxesSubplot: >"
      ]
     },
     "execution_count": 191,
     "metadata": {},
     "output_type": "execute_result"
    },
    {
     "data": {
      "image/png": "[encoded data removed]",
      "text/plain": [
       "<Figure size 640x480 with 2 Axes>"
      ]
     },
     "metadata": {},
     "output_type": "display_data"
    }
   ],
   "source": [
    "sns.heatmap(df_numeric.corr(), annot=True, cmap='rocket_r')"
   ]
  }
 ],
 "metadata": {
  "kernelspec": {
   "display_name": "Python 3.8.13 ('py38')",
   "language": "python",
   "name": "python3"
  },
  "language_info": {
   "codemirror_mode": {
    "name": "ipython",
    "version": 3
   },
   "file_extension": ".py",
   "mimetype": "text/x-python",
   "name": "python",
   "nbconvert_exporter": "python",
   "pygments_lexer": "ipython3",
   "version": "3.8.13"
  },
  "orig_nbformat": 4,
  "vscode": {
   "interpreter": {
    "hash": "4b854f902473dd384bf2977652b4fbe81aae8d42206710df1d2c6c51d5c9268c"
   }
  }
 },
 "nbformat": 4,
 "nbformat_minor": 2
}
