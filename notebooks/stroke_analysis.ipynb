{
  "cells": [
    {
      "cell_type": "markdown",
      "metadata": {
        "colab_type": "text",
        "id": "view-in-github"
      },
      "source": [
        "<a href=\"https://colab.research.google.com/github/PosgradoMNA/actividades-del-projecto-cad_equipo_11/blob/main/assignment01.ipynb\" target=\"_parent\"><img src=\"https://colab.research.google.com/assets/colab-badge.svg\" alt=\"Open In Colab\"/></a>"
      ]
    },
    {
      "cell_type": "markdown",
      "metadata": {},
      "source": [
        "# Stroke Prediction Dataset\n",
        "\n",
        "La organización que generó el dataset es confidencial, sin embargo, este tiene fines educativos y se puede descargar [aquí](https://www.kaggle.com/datasets/fedesoriano/stroke-prediction-dataset)\n",
        "\n",
        "## Sobre el dataset\n",
        "Este conjunto de datos se utiliza para predecir si es probable que un paciente sufra un accidente cerebrovascular en función de los parámetros de entrada como el sexo, la edad, diversas enfermedades y el tabaquismo. Cada fila de los datos proporciona información relevante sobre el paciente.\n",
        "\n",
        "### Características utilizadas\n",
        "1. id:\n",
        "2. gender:\n",
        "3. age:\n",
        "4. hypertension:\n",
        "5. heart_disease:\n",
        "6. ever_married:\n",
        "7. work_type:\n",
        "8. residence_type:\n",
        "9. avg_glucose_level:\n",
        "10. bmi: índice de masa corporal\n",
        "11. smoking_status:\n",
        "12. stroke:  \n",
        "\n",
        "## Additinoal information\n",
        "* [Brain stroke WHO](https://www.who.int/southeastasia/news/detail/29-10-2016-prevent-brain-stroke)\n",
        "* [Stroke Fact Sheet](https://www.heart.org/-/media/PHD-Files-2/Science-News/2/2021-Heart-and-Stroke-Stat-Update/2021_Stat_Update_factsheet_Global_Burden_of_Disease.pdf)"
      ]
    },
    {
      "cell_type": "code",
      "execution_count": null,
      "metadata": {
        "colab": {
          "base_uri": "https://localhost:8080/"
        },
        "id": "LzUSMM79NR9P",
        "outputId": "0e6cb421-1096-426a-b31a-f61d059def81"
      },
      "outputs": [
        {
          "name": "stdout",
          "output_type": "stream",
          "text": [
            "assignment01 for GitJobish03 and edited in git, and 18\n"
          ]
        }
      ],
      "source": [
        "print('assignment01 for GitJobish03 and edited in git, and 18')"
      ]
    },
    {
      "cell_type": "code",
      "execution_count": 1,
      "metadata": {
        "colab": {
          "base_uri": "https://localhost:8080/"
        },
        "id": "mxM_WppZPMFx",
        "outputId": "014b3deb-7f07-40ba-e25e-f70997185457"
      },
      "outputs": [
        {
          "name": "stdout",
          "output_type": "stream",
          "text": [
            "Hello world\n"
          ]
        }
      ],
      "source": [
        "print('Hello world')"
      ]
    }
  ],
  "metadata": {
    "colab": {
      "include_colab_link": true,
      "name": "assignment01.ipynb",
      "provenance": []
    },
    "kernelspec": {
      "display_name": "Python 3.8.10 64-bit",
      "language": "python",
      "name": "python3"
    },
    "language_info": {
      "name": "python",
      "version": "3.8.10"
    },
    "vscode": {
      "interpreter": {
        "hash": "e7370f93d1d0cde622a1f8e1c04877d8463912d04d973331ad4851f04de6915a"
      }
    }
  },
  "nbformat": 4,
  "nbformat_minor": 0
}
