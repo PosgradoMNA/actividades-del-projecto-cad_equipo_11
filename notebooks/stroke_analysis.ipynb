{
 "cells": [
  {
   "cell_type": "markdown",
   "metadata": {
    "colab_type": "text",
    "id": "view-in-github"
   },
   "source": [
    "<a href=\"https://colab.research.google.com/github/PosgradoMNA/actividades-del-projecto-cad_equipo_11/blob/main/assignment01.ipynb\" target=\"_parent\"><img src=\"https://colab.research.google.com/assets/colab-badge.svg\" alt=\"Open In Colab\"/></a>"
   ]
  },
  {
   "cell_type": "markdown",
   "metadata": {},
   "source": [
    "# Stroke Prediction Dataset\n",
    "\n",
    "La organización que generó el dataset es confidencial, sin embargo, este tiene fines educativos y se puede descargar [aquí](https://www.kaggle.com/datasets/fedesoriano/stroke-prediction-dataset)\n",
    "\n",
    "## Sobre el dataset\n",
    "Este conjunto de datos se utiliza para predecir si es probable que un paciente sufra un accidente cerebrovascular en función de los parámetros de entrada como el sexo, la edad, diversas enfermedades y el tabaquismo. Cada fila de los datos proporciona información relevante sobre el paciente.\n",
    "\n",
    "### Características utilizadas\n",
    "1. id: identificador de cada registro en el dataset\n",
    "2. gender: género del pacienete, los valores permitidos son \"Male\", \"Female\" o \"Other\"\n",
    "3. age: edad del paciente\n",
    "4. hypertension: 0 si el paciente no tiene hipertensión y 1 si tiene hipertensión\n",
    "5. heart_disease: 0 si el paciente no tiene enfermedades cardíacas, 1 si tiene alguna enfermedad\n",
    "6. ever_married: indica si el paciente se ha casado o no, los valores permitidos son \"No\" o \"Yes\".\n",
    "7. work_type: tipo de trabajo que realiza el paciente, valores permitidos \"children\", \"Govt_jov\", \"Never_worked\", \"Private\" or \"Self-employed\"\n",
    "8. residence_type: tipo de residencia, valores permitidos \"Rural\" or \"Urban\"\n",
    "9. avg_glucose_level: nivel promedio de glucosa en la sangre\n",
    "10. bmi: índice de masa corporal\n",
    "11. smoking_status: indica si el paciente es fumador, valores permitidos \"formerly smoked\", \"never smoked\", \"smokes\" or \"Unknown\"*\n",
    "12. stroke: 1 indica si el paciente tuvo algún derrame y 0 no.\n",
    "\n",
    "## Pregunta de investigacion\n",
    "Algunas preguntas que se podrian llegar a plantear acerca del dataset podrian ser las siguientes:\n",
    "- ¿Que género es mas propenso a tener infartos?\n",
    "- Desde cual edad se es mas propenso a sufrir de un infarto?\n",
    "- Dado si la persona tienen hipertension, puede sufrir de un infarto?\n",
    "- Dependiendo del tipo de trabajo que tiene la persona y un historial de enfermedades en el corazon, que tan propenso es que sufra un infarto?\n",
    "- Dependiendo del indice de masa corporal y su promedio de sus lecturas de glucosa, que tan propenso es que una persona sufra un infarto?\n",
    "- Dependiendo del tipo de residencia, el tipo de trabajo y si la persona sufre hipertension, que tan propenso es que la persona sufra de un infarto?\n",
    "- Si una persona fuma, tienen un indice de masa corporal apropiado a su persona, y niveles de glucosa por encima del promedio, es posible que pueda a llegar a sufrir de un infarto?\n",
    "- ¿El tipo de trabajo es un factor clave en el desarrollo de un infarto?\n",
    "- ¿Existe alguna correlación de la masa corporal y los niveles de glucosa en pacientes con infartos?\n",
    "- ¿El tipo de trabajo puede ser un factor relevante en la detección de infartos?\n",
    "\n",
    "## Actor interesado en las preguntas mencionadas\n",
    "Dado que el problema que se trata de resolver con este dataset recae en el sector salud, aquellas personas u organismos interesados en las preguntas mencionadas en la seccion anterior podrian ser doctores para tratar de predecir cuando una persona tendria un infarto antes de tiempo y empezar a tratar con los debidos cambios en los habitos de la persona para evitar esto. Se podrian crear programas de salud para la prevencion de un infarto puesto que los habitos de una persona son los que eventualmente \n",
    "\n",
    "\n",
    "## Additinoal information\n",
    "* [Brain stroke WHO](https://www.who.int/southeastasia/news/detail/29-10-2016-prevent-brain-stroke)\n",
    "* [Stroke Fact Sheet](https://www.heart.org/-/media/PHD-Files-2/Science-News/2/2021-Heart-and-Stroke-Stat-Update/2021_Stat_Update_factsheet_Global_Burden_of_Disease.pdf)"
   ]
  },
  {
   "cell_type": "code",
   "execution_count": 1,
   "metadata": {
    "colab": {
     "base_uri": "https://localhost:8080/"
    },
    "id": "LzUSMM79NR9P",
    "outputId": "0e6cb421-1096-426a-b31a-f61d059def81"
   },
   "outputs": [],
   "source": [
    "import pandas as pd"
   ]
  },
  {
   "cell_type": "code",
   "execution_count": 4,
   "metadata": {
    "colab": {
     "include_colab_link": true,
     "name": "assignment01.ipynb",
     "provenance": []
    },
    "id": "mxM_WppZPMFx",
    "kernelspec": {
     "display_name": "Python 3.8.10 64-bit",
     "language": "python",
     "name": "python3"
    },
    "language_info": {
     "codemirror_mode": {
      "name": "ipython",
      "version": 3
     },
     "file_extension": ".py",
     "mimetype": "text/x-python",
     "name": "python",
     "nbconvert_exporter": "python",
     "pygments_lexer": "ipython3",
     "version": "3.8.5"
    },
    "outputId": "014b3deb-7f07-40ba-e25e-f70997185457"
   },
   "outputs": [
    {
     "data": {
      "text/html": [
       "<div>\n",
       "<style scoped>\n",
       "    .dataframe tbody tr th:only-of-type {\n",
       "        vertical-align: middle;\n",
       "    }\n",
       "\n",
       "    .dataframe tbody tr th {\n",
       "        vertical-align: top;\n",
       "    }\n",
       "\n",
       "    .dataframe thead th {\n",
       "        text-align: right;\n",
       "    }\n",
       "</style>\n",
       "<table border=\"1\" class=\"dataframe\">\n",
       "  <thead>\n",
       "    <tr style=\"text-align: right;\">\n",
       "      <th></th>\n",
       "      <th>id</th>\n",
       "      <th>gender</th>\n",
       "      <th>age</th>\n",
       "      <th>hypertension</th>\n",
       "      <th>heart_disease</th>\n",
       "      <th>ever_married</th>\n",
       "      <th>work_type</th>\n",
       "      <th>Residence_type</th>\n",
       "      <th>avg_glucose_level</th>\n",
       "      <th>bmi</th>\n",
       "      <th>smoking_status</th>\n",
       "      <th>stroke</th>\n",
       "    </tr>\n",
       "  </thead>\n",
       "  <tbody>\n",
       "    <tr>\n",
       "      <th>0</th>\n",
       "      <td>9046</td>\n",
       "      <td>Male</td>\n",
       "      <td>67.0</td>\n",
       "      <td>0</td>\n",
       "      <td>1</td>\n",
       "      <td>Yes</td>\n",
       "      <td>Private</td>\n",
       "      <td>Urban</td>\n",
       "      <td>228.69</td>\n",
       "      <td>36.6</td>\n",
       "      <td>formerly smoked</td>\n",
       "      <td>1</td>\n",
       "    </tr>\n",
       "    <tr>\n",
       "      <th>1</th>\n",
       "      <td>51676</td>\n",
       "      <td>Female</td>\n",
       "      <td>61.0</td>\n",
       "      <td>0</td>\n",
       "      <td>0</td>\n",
       "      <td>Yes</td>\n",
       "      <td>Self-employed</td>\n",
       "      <td>Rural</td>\n",
       "      <td>202.21</td>\n",
       "      <td>NaN</td>\n",
       "      <td>never smoked</td>\n",
       "      <td>1</td>\n",
       "    </tr>\n",
       "    <tr>\n",
       "      <th>2</th>\n",
       "      <td>31112</td>\n",
       "      <td>Male</td>\n",
       "      <td>80.0</td>\n",
       "      <td>0</td>\n",
       "      <td>1</td>\n",
       "      <td>Yes</td>\n",
       "      <td>Private</td>\n",
       "      <td>Rural</td>\n",
       "      <td>105.92</td>\n",
       "      <td>32.5</td>\n",
       "      <td>never smoked</td>\n",
       "      <td>1</td>\n",
       "    </tr>\n",
       "    <tr>\n",
       "      <th>3</th>\n",
       "      <td>60182</td>\n",
       "      <td>Female</td>\n",
       "      <td>49.0</td>\n",
       "      <td>0</td>\n",
       "      <td>0</td>\n",
       "      <td>Yes</td>\n",
       "      <td>Private</td>\n",
       "      <td>Urban</td>\n",
       "      <td>171.23</td>\n",
       "      <td>34.4</td>\n",
       "      <td>smokes</td>\n",
       "      <td>1</td>\n",
       "    </tr>\n",
       "    <tr>\n",
       "      <th>4</th>\n",
       "      <td>1665</td>\n",
       "      <td>Female</td>\n",
       "      <td>79.0</td>\n",
       "      <td>1</td>\n",
       "      <td>0</td>\n",
       "      <td>Yes</td>\n",
       "      <td>Self-employed</td>\n",
       "      <td>Rural</td>\n",
       "      <td>174.12</td>\n",
       "      <td>24.0</td>\n",
       "      <td>never smoked</td>\n",
       "      <td>1</td>\n",
       "    </tr>\n",
       "  </tbody>\n",
       "</table>\n",
       "</div>"
      ],
      "text/plain": [
       "      id  gender   age  hypertension  heart_disease ever_married  \\\n",
       "0   9046    Male  67.0             0              1          Yes   \n",
       "1  51676  Female  61.0             0              0          Yes   \n",
       "2  31112    Male  80.0             0              1          Yes   \n",
       "3  60182  Female  49.0             0              0          Yes   \n",
       "4   1665  Female  79.0             1              0          Yes   \n",
       "\n",
       "       work_type Residence_type  avg_glucose_level   bmi   smoking_status  \\\n",
       "0        Private          Urban             228.69  36.6  formerly smoked   \n",
       "1  Self-employed          Rural             202.21   NaN     never smoked   \n",
       "2        Private          Rural             105.92  32.5     never smoked   \n",
       "3        Private          Urban             171.23  34.4           smokes   \n",
       "4  Self-employed          Rural             174.12  24.0     never smoked   \n",
       "\n",
       "   stroke  \n",
       "0       1  \n",
       "1       1  \n",
       "2       1  \n",
       "3       1  \n",
       "4       1  "
      ]
     },
     "execution_count": 4,
     "metadata": {},
     "output_type": "execute_result"
    }
   ],
   "source": [
    "data = pd.read_csv('../data/healthcare-dataset-stroke-data.csv')\n",
    "data.head()"
   ]
  }
 ],
 "metadata": {
  "colab": {
   "include_colab_link": true,
   "name": "assignment01.ipynb",
   "provenance": []
  },
  "kernelspec": {
   "display_name": "Python 3 (ipykernel)",
   "language": "python",
   "name": "python3"
  },
  "language_info": {
   "codemirror_mode": {
    "name": "ipython",
    "version": 3
   },
   "file_extension": ".py",
   "mimetype": "text/x-python",
   "name": "python",
   "nbconvert_exporter": "python",
   "pygments_lexer": "ipython3",
   "version": "3.8.5"
  },
  "vscode": {
   "interpreter": {
    "hash": "e7370f93d1d0cde622a1f8e1c04877d8463912d04d973331ad4851f04de6915a"
   }
  }
 },
 "nbformat": 4,
 "nbformat_minor": 4
}
