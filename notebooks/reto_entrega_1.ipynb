{
 "cells": [
  {
   "cell_type": "code",
   "execution_count": 99,
   "metadata": {},
   "outputs": [],
   "source": [
    "import pandas as pd\n",
    "import numpy as np\n",
    "import matplotlib.pyplot as plt\n",
    "import seaborn as sns"
   ]
  },
  {
   "cell_type": "code",
   "execution_count": 100,
   "metadata": {},
   "outputs": [
    {
     "data": {
      "text/html": [
       "<div>\n",
       "<style scoped>\n",
       "    .dataframe tbody tr th:only-of-type {\n",
       "        vertical-align: middle;\n",
       "    }\n",
       "\n",
       "    .dataframe tbody tr th {\n",
       "        vertical-align: top;\n",
       "    }\n",
       "\n",
       "    .dataframe thead th {\n",
       "        text-align: right;\n",
       "    }\n",
       "</style>\n",
       "<table border=\"1\" class=\"dataframe\">\n",
       "  <thead>\n",
       "    <tr style=\"text-align: right;\">\n",
       "      <th></th>\n",
       "      <th>CLAVE</th>\n",
       "      <th>SITIO</th>\n",
       "      <th>ORGANISMO_DE_CUENCA</th>\n",
       "      <th>ESTADO</th>\n",
       "      <th>MUNICIPIO</th>\n",
       "      <th>ACUIFERO</th>\n",
       "      <th>SUBTIPO</th>\n",
       "      <th>LONGITUD</th>\n",
       "      <th>LATITUD</th>\n",
       "      <th>PERIODO</th>\n",
       "      <th>...</th>\n",
       "      <th>CUMPLE_CON_DUR</th>\n",
       "      <th>CUMPLE_CON_CF</th>\n",
       "      <th>CUMPLE_CON_NO3</th>\n",
       "      <th>CUMPLE_CON_AS</th>\n",
       "      <th>CUMPLE_CON_CD</th>\n",
       "      <th>CUMPLE_CON_CR</th>\n",
       "      <th>CUMPLE_CON_HG</th>\n",
       "      <th>CUMPLE_CON_PB</th>\n",
       "      <th>CUMPLE_CON_MN</th>\n",
       "      <th>CUMPLE_CON_FE</th>\n",
       "    </tr>\n",
       "  </thead>\n",
       "  <tbody>\n",
       "    <tr>\n",
       "      <th>0</th>\n",
       "      <td>DLAGU6</td>\n",
       "      <td>POZO SAN GIL</td>\n",
       "      <td>LERMA SANTIAGO PACIFICO</td>\n",
       "      <td>AGUASCALIENTES</td>\n",
       "      <td>ASIENTOS</td>\n",
       "      <td>VALLE DE CHICALOTE</td>\n",
       "      <td>POZO</td>\n",
       "      <td>-102.02210</td>\n",
       "      <td>22.20887</td>\n",
       "      <td>2020</td>\n",
       "      <td>...</td>\n",
       "      <td>SI</td>\n",
       "      <td>SI</td>\n",
       "      <td>SI</td>\n",
       "      <td>SI</td>\n",
       "      <td>SI</td>\n",
       "      <td>SI</td>\n",
       "      <td>SI</td>\n",
       "      <td>SI</td>\n",
       "      <td>SI</td>\n",
       "      <td>SI</td>\n",
       "    </tr>\n",
       "    <tr>\n",
       "      <th>1</th>\n",
       "      <td>DLAGU6516</td>\n",
       "      <td>POZO R013 CAÑADA HONDA</td>\n",
       "      <td>LERMA SANTIAGO PACIFICO</td>\n",
       "      <td>AGUASCALIENTES</td>\n",
       "      <td>AGUASCALIENTES</td>\n",
       "      <td>VALLE DE CHICALOTE</td>\n",
       "      <td>POZO</td>\n",
       "      <td>-102.20075</td>\n",
       "      <td>21.99958</td>\n",
       "      <td>2020</td>\n",
       "      <td>...</td>\n",
       "      <td>SI</td>\n",
       "      <td>SI</td>\n",
       "      <td>SI</td>\n",
       "      <td>SI</td>\n",
       "      <td>SI</td>\n",
       "      <td>SI</td>\n",
       "      <td>SI</td>\n",
       "      <td>SI</td>\n",
       "      <td>SI</td>\n",
       "      <td>SI</td>\n",
       "    </tr>\n",
       "    <tr>\n",
       "      <th>2</th>\n",
       "      <td>DLAGU7</td>\n",
       "      <td>POZO COSIO</td>\n",
       "      <td>LERMA SANTIAGO PACIFICO</td>\n",
       "      <td>AGUASCALIENTES</td>\n",
       "      <td>COSIO</td>\n",
       "      <td>VALLE DE AGUASCALIENTES</td>\n",
       "      <td>POZO</td>\n",
       "      <td>-102.28801</td>\n",
       "      <td>22.36685</td>\n",
       "      <td>2020</td>\n",
       "      <td>...</td>\n",
       "      <td>SI</td>\n",
       "      <td>SI</td>\n",
       "      <td>SI</td>\n",
       "      <td>NO</td>\n",
       "      <td>SI</td>\n",
       "      <td>SI</td>\n",
       "      <td>SI</td>\n",
       "      <td>SI</td>\n",
       "      <td>SI</td>\n",
       "      <td>SI</td>\n",
       "    </tr>\n",
       "    <tr>\n",
       "      <th>3</th>\n",
       "      <td>DLAGU9</td>\n",
       "      <td>POZO EL SALITRILLO</td>\n",
       "      <td>LERMA SANTIAGO PACIFICO</td>\n",
       "      <td>AGUASCALIENTES</td>\n",
       "      <td>RINCON DE ROMOS</td>\n",
       "      <td>VALLE DE AGUASCALIENTES</td>\n",
       "      <td>POZO</td>\n",
       "      <td>-102.29449</td>\n",
       "      <td>22.18435</td>\n",
       "      <td>2020</td>\n",
       "      <td>...</td>\n",
       "      <td>SI</td>\n",
       "      <td>SI</td>\n",
       "      <td>SI</td>\n",
       "      <td>SI</td>\n",
       "      <td>SI</td>\n",
       "      <td>SI</td>\n",
       "      <td>SI</td>\n",
       "      <td>SI</td>\n",
       "      <td>SI</td>\n",
       "      <td>SI</td>\n",
       "    </tr>\n",
       "    <tr>\n",
       "      <th>4</th>\n",
       "      <td>DLBAJ107</td>\n",
       "      <td>RANCHO EL TECOLOTE</td>\n",
       "      <td>PENINSULA DE BAJA CALIFORNIA</td>\n",
       "      <td>BAJA CALIFORNIA SUR</td>\n",
       "      <td>LA PAZ</td>\n",
       "      <td>TODOS SANTOS</td>\n",
       "      <td>POZO</td>\n",
       "      <td>-110.24480</td>\n",
       "      <td>23.45138</td>\n",
       "      <td>2020</td>\n",
       "      <td>...</td>\n",
       "      <td>SI</td>\n",
       "      <td>SI</td>\n",
       "      <td>NO</td>\n",
       "      <td>SI</td>\n",
       "      <td>SI</td>\n",
       "      <td>SI</td>\n",
       "      <td>SI</td>\n",
       "      <td>SI</td>\n",
       "      <td>SI</td>\n",
       "      <td>SI</td>\n",
       "    </tr>\n",
       "  </tbody>\n",
       "</table>\n",
       "<p>5 rows × 57 columns</p>\n",
       "</div>"
      ],
      "text/plain": [
       "       CLAVE                   SITIO           ORGANISMO_DE_CUENCA  \\\n",
       "0     DLAGU6            POZO SAN GIL       LERMA SANTIAGO PACIFICO   \n",
       "1  DLAGU6516  POZO R013 CAÑADA HONDA       LERMA SANTIAGO PACIFICO   \n",
       "2     DLAGU7              POZO COSIO       LERMA SANTIAGO PACIFICO   \n",
       "3     DLAGU9      POZO EL SALITRILLO       LERMA SANTIAGO PACIFICO   \n",
       "4   DLBAJ107      RANCHO EL TECOLOTE  PENINSULA DE BAJA CALIFORNIA   \n",
       "\n",
       "                ESTADO        MUNICIPIO                 ACUIFERO SUBTIPO  \\\n",
       "0       AGUASCALIENTES         ASIENTOS       VALLE DE CHICALOTE    POZO   \n",
       "1       AGUASCALIENTES   AGUASCALIENTES       VALLE DE CHICALOTE    POZO   \n",
       "2       AGUASCALIENTES            COSIO  VALLE DE AGUASCALIENTES    POZO   \n",
       "3       AGUASCALIENTES  RINCON DE ROMOS  VALLE DE AGUASCALIENTES    POZO   \n",
       "4  BAJA CALIFORNIA SUR           LA PAZ             TODOS SANTOS    POZO   \n",
       "\n",
       "    LONGITUD   LATITUD  PERIODO  ...  CUMPLE_CON_DUR CUMPLE_CON_CF  \\\n",
       "0 -102.02210  22.20887     2020  ...              SI            SI   \n",
       "1 -102.20075  21.99958     2020  ...              SI            SI   \n",
       "2 -102.28801  22.36685     2020  ...              SI            SI   \n",
       "3 -102.29449  22.18435     2020  ...              SI            SI   \n",
       "4 -110.24480  23.45138     2020  ...              SI            SI   \n",
       "\n",
       "   CUMPLE_CON_NO3 CUMPLE_CON_AS  CUMPLE_CON_CD CUMPLE_CON_CR CUMPLE_CON_HG  \\\n",
       "0              SI            SI             SI            SI            SI   \n",
       "1              SI            SI             SI            SI            SI   \n",
       "2              SI            NO             SI            SI            SI   \n",
       "3              SI            SI             SI            SI            SI   \n",
       "4              NO            SI             SI            SI            SI   \n",
       "\n",
       "  CUMPLE_CON_PB CUMPLE_CON_MN CUMPLE_CON_FE  \n",
       "0            SI            SI            SI  \n",
       "1            SI            SI            SI  \n",
       "2            SI            SI            SI  \n",
       "3            SI            SI            SI  \n",
       "4            SI            SI            SI  \n",
       "\n",
       "[5 rows x 57 columns]"
      ]
     },
     "execution_count": 100,
     "metadata": {},
     "output_type": "execute_result"
    }
   ],
   "source": [
    "df = pd.read_csv('../data/Datos_de_calidad_del_agua_2020/Datos_de_calidad_del_agua_de_sitios_de_monitoreo_de_aguas_subterraneas_2020.csv', encoding='ISO-8859-1')\n",
    "df.head()"
   ]
  },
  {
   "cell_type": "markdown",
   "metadata": {},
   "source": [
    "## Limpiando el dataset"
   ]
  },
  {
   "cell_type": "code",
   "execution_count": 101,
   "metadata": {},
   "outputs": [],
   "source": [
    "columnas_remover = ['CLAVE', 'SITIO', 'ORGANISMO_DE_CUENCA', 'ESTADO', 'MUNICIPIO', 'ACUIFERO', \n",
    "'SUBTIPO', 'PERIODO', 'SDT_mg/L', 'CD_TOT_mg/L', 'HG_TOT_mg/L', 'PB_TOT_mg/L',\n",
    "'COLI_FEC_NMP/100_mL', 'AS_TOT_mg/L', 'CR_TOT_mg/L', 'MN_TOT_mg/L', 'FE_TOT_mg/L'\n",
    "]\n",
    "df.drop(columnas_remover, axis=1, inplace=True)\n",
    "# ALC_mg/L\tCONDUCT_mS/cm\tSDT_M_mg/L\tDUR_mg/L\tN_NO3_mg/L"
   ]
  },
  {
   "cell_type": "code",
   "execution_count": 102,
   "metadata": {},
   "outputs": [
    {
     "data": {
      "text/html": [
       "<div>\n",
       "<style scoped>\n",
       "    .dataframe tbody tr th:only-of-type {\n",
       "        vertical-align: middle;\n",
       "    }\n",
       "\n",
       "    .dataframe tbody tr th {\n",
       "        vertical-align: top;\n",
       "    }\n",
       "\n",
       "    .dataframe thead th {\n",
       "        text-align: right;\n",
       "    }\n",
       "</style>\n",
       "<table border=\"1\" class=\"dataframe\">\n",
       "  <thead>\n",
       "    <tr style=\"text-align: right;\">\n",
       "      <th></th>\n",
       "      <th>LONGITUD</th>\n",
       "      <th>LATITUD</th>\n",
       "      <th>ALC_mg/L</th>\n",
       "      <th>CALIDAD_ALC</th>\n",
       "      <th>CONDUCT_mS/cm</th>\n",
       "      <th>CALIDAD_CONDUC</th>\n",
       "      <th>SDT_M_mg/L</th>\n",
       "      <th>CALIDAD_SDT_ra</th>\n",
       "      <th>CALIDAD_SDT_salin</th>\n",
       "      <th>FLUORUROS_mg/L</th>\n",
       "      <th>...</th>\n",
       "      <th>CUMPLE_CON_DUR</th>\n",
       "      <th>CUMPLE_CON_CF</th>\n",
       "      <th>CUMPLE_CON_NO3</th>\n",
       "      <th>CUMPLE_CON_AS</th>\n",
       "      <th>CUMPLE_CON_CD</th>\n",
       "      <th>CUMPLE_CON_CR</th>\n",
       "      <th>CUMPLE_CON_HG</th>\n",
       "      <th>CUMPLE_CON_PB</th>\n",
       "      <th>CUMPLE_CON_MN</th>\n",
       "      <th>CUMPLE_CON_FE</th>\n",
       "    </tr>\n",
       "  </thead>\n",
       "  <tbody>\n",
       "    <tr>\n",
       "      <th>0</th>\n",
       "      <td>-102.02210</td>\n",
       "      <td>22.20887</td>\n",
       "      <td>229.990</td>\n",
       "      <td>Alta</td>\n",
       "      <td>940.0</td>\n",
       "      <td>Permisible para riego</td>\n",
       "      <td>603.6</td>\n",
       "      <td>Cultivos sensibles</td>\n",
       "      <td>Potable - Dulce</td>\n",
       "      <td>0.9766</td>\n",
       "      <td>...</td>\n",
       "      <td>SI</td>\n",
       "      <td>SI</td>\n",
       "      <td>SI</td>\n",
       "      <td>SI</td>\n",
       "      <td>SI</td>\n",
       "      <td>SI</td>\n",
       "      <td>SI</td>\n",
       "      <td>SI</td>\n",
       "      <td>SI</td>\n",
       "      <td>SI</td>\n",
       "    </tr>\n",
       "    <tr>\n",
       "      <th>1</th>\n",
       "      <td>-102.20075</td>\n",
       "      <td>21.99958</td>\n",
       "      <td>231.990</td>\n",
       "      <td>Alta</td>\n",
       "      <td>608.0</td>\n",
       "      <td>Buena para riego</td>\n",
       "      <td>445.4</td>\n",
       "      <td>Excelente para riego</td>\n",
       "      <td>Potable - Dulce</td>\n",
       "      <td>0.9298</td>\n",
       "      <td>...</td>\n",
       "      <td>SI</td>\n",
       "      <td>SI</td>\n",
       "      <td>SI</td>\n",
       "      <td>SI</td>\n",
       "      <td>SI</td>\n",
       "      <td>SI</td>\n",
       "      <td>SI</td>\n",
       "      <td>SI</td>\n",
       "      <td>SI</td>\n",
       "      <td>SI</td>\n",
       "    </tr>\n",
       "    <tr>\n",
       "      <th>2</th>\n",
       "      <td>-102.28801</td>\n",
       "      <td>22.36685</td>\n",
       "      <td>204.920</td>\n",
       "      <td>Alta</td>\n",
       "      <td>532.0</td>\n",
       "      <td>Buena para riego</td>\n",
       "      <td>342</td>\n",
       "      <td>Excelente para riego</td>\n",
       "      <td>Potable - Dulce</td>\n",
       "      <td>1.8045</td>\n",
       "      <td>...</td>\n",
       "      <td>SI</td>\n",
       "      <td>SI</td>\n",
       "      <td>SI</td>\n",
       "      <td>NO</td>\n",
       "      <td>SI</td>\n",
       "      <td>SI</td>\n",
       "      <td>SI</td>\n",
       "      <td>SI</td>\n",
       "      <td>SI</td>\n",
       "      <td>SI</td>\n",
       "    </tr>\n",
       "    <tr>\n",
       "      <th>3</th>\n",
       "      <td>-102.29449</td>\n",
       "      <td>22.18435</td>\n",
       "      <td>327.000</td>\n",
       "      <td>Alta</td>\n",
       "      <td>686.0</td>\n",
       "      <td>Buena para riego</td>\n",
       "      <td>478.6</td>\n",
       "      <td>Excelente para riego</td>\n",
       "      <td>Potable - Dulce</td>\n",
       "      <td>1.1229</td>\n",
       "      <td>...</td>\n",
       "      <td>SI</td>\n",
       "      <td>SI</td>\n",
       "      <td>SI</td>\n",
       "      <td>SI</td>\n",
       "      <td>SI</td>\n",
       "      <td>SI</td>\n",
       "      <td>SI</td>\n",
       "      <td>SI</td>\n",
       "      <td>SI</td>\n",
       "      <td>SI</td>\n",
       "    </tr>\n",
       "    <tr>\n",
       "      <th>4</th>\n",
       "      <td>-110.24480</td>\n",
       "      <td>23.45138</td>\n",
       "      <td>309.885</td>\n",
       "      <td>Alta</td>\n",
       "      <td>1841.0</td>\n",
       "      <td>Permisible para riego</td>\n",
       "      <td>1179</td>\n",
       "      <td>Cultivos con manejo especial</td>\n",
       "      <td>Ligeramente salobres</td>\n",
       "      <td>0.2343</td>\n",
       "      <td>...</td>\n",
       "      <td>SI</td>\n",
       "      <td>SI</td>\n",
       "      <td>NO</td>\n",
       "      <td>SI</td>\n",
       "      <td>SI</td>\n",
       "      <td>SI</td>\n",
       "      <td>SI</td>\n",
       "      <td>SI</td>\n",
       "      <td>SI</td>\n",
       "      <td>SI</td>\n",
       "    </tr>\n",
       "  </tbody>\n",
       "</table>\n",
       "<p>5 rows × 40 columns</p>\n",
       "</div>"
      ],
      "text/plain": [
       "    LONGITUD   LATITUD  ALC_mg/L CALIDAD_ALC  CONDUCT_mS/cm  \\\n",
       "0 -102.02210  22.20887   229.990        Alta          940.0   \n",
       "1 -102.20075  21.99958   231.990        Alta          608.0   \n",
       "2 -102.28801  22.36685   204.920        Alta          532.0   \n",
       "3 -102.29449  22.18435   327.000        Alta          686.0   \n",
       "4 -110.24480  23.45138   309.885        Alta         1841.0   \n",
       "\n",
       "          CALIDAD_CONDUC SDT_M_mg/L                CALIDAD_SDT_ra  \\\n",
       "0  Permisible para riego      603.6            Cultivos sensibles   \n",
       "1       Buena para riego      445.4          Excelente para riego   \n",
       "2       Buena para riego        342          Excelente para riego   \n",
       "3       Buena para riego      478.6          Excelente para riego   \n",
       "4  Permisible para riego       1179  Cultivos con manejo especial   \n",
       "\n",
       "      CALIDAD_SDT_salin FLUORUROS_mg/L  ... CUMPLE_CON_DUR CUMPLE_CON_CF  \\\n",
       "0       Potable - Dulce         0.9766  ...             SI            SI   \n",
       "1       Potable - Dulce         0.9298  ...             SI            SI   \n",
       "2       Potable - Dulce         1.8045  ...             SI            SI   \n",
       "3       Potable - Dulce         1.1229  ...             SI            SI   \n",
       "4  Ligeramente salobres         0.2343  ...             SI            SI   \n",
       "\n",
       "  CUMPLE_CON_NO3 CUMPLE_CON_AS CUMPLE_CON_CD CUMPLE_CON_CR CUMPLE_CON_HG  \\\n",
       "0             SI            SI            SI            SI            SI   \n",
       "1             SI            SI            SI            SI            SI   \n",
       "2             SI            NO            SI            SI            SI   \n",
       "3             SI            SI            SI            SI            SI   \n",
       "4             NO            SI            SI            SI            SI   \n",
       "\n",
       "  CUMPLE_CON_PB CUMPLE_CON_MN CUMPLE_CON_FE  \n",
       "0            SI            SI            SI  \n",
       "1            SI            SI            SI  \n",
       "2            SI            SI            SI  \n",
       "3            SI            SI            SI  \n",
       "4            SI            SI            SI  \n",
       "\n",
       "[5 rows x 40 columns]"
      ]
     },
     "execution_count": 102,
     "metadata": {},
     "output_type": "execute_result"
    }
   ],
   "source": [
    "df.head()"
   ]
  },
  {
   "cell_type": "code",
   "execution_count": 103,
   "metadata": {},
   "outputs": [],
   "source": [
    "# REPLACE VALUES FOR THESE COLUMNS\n",
    "df = df[df['SDT_M_mg/L'] != '<25']\n",
    "df = df[df['DUR_mg/L'] != '<20']\n",
    "df['N_NO3_mg/L'].replace('<0.02', 0, inplace=True)\n",
    "df['FLUORUROS_mg/L'].replace('<0.2', 0, inplace=True)\n",
    "df.dropna(inplace=True)\n",
    "\n",
    "df = df.astype({'SDT_M_mg/L':'float32', 'N_NO3_mg/L':'float32', 'DUR_mg/L':'float32', 'FLUORUROS_mg/L': 'float32'})"
   ]
  },
  {
   "cell_type": "code",
   "execution_count": 104,
   "metadata": {},
   "outputs": [
    {
     "data": {
      "text/html": [
       "<div>\n",
       "<style scoped>\n",
       "    .dataframe tbody tr th:only-of-type {\n",
       "        vertical-align: middle;\n",
       "    }\n",
       "\n",
       "    .dataframe tbody tr th {\n",
       "        vertical-align: top;\n",
       "    }\n",
       "\n",
       "    .dataframe thead th {\n",
       "        text-align: right;\n",
       "    }\n",
       "</style>\n",
       "<table border=\"1\" class=\"dataframe\">\n",
       "  <thead>\n",
       "    <tr style=\"text-align: right;\">\n",
       "      <th></th>\n",
       "      <th>LONGITUD</th>\n",
       "      <th>LATITUD</th>\n",
       "      <th>ALC_mg/L</th>\n",
       "      <th>CONDUCT_mS/cm</th>\n",
       "      <th>SDT_M_mg/L</th>\n",
       "      <th>FLUORUROS_mg/L</th>\n",
       "      <th>DUR_mg/L</th>\n",
       "      <th>N_NO3_mg/L</th>\n",
       "    </tr>\n",
       "  </thead>\n",
       "  <tbody>\n",
       "    <tr>\n",
       "      <th>2</th>\n",
       "      <td>-102.288010</td>\n",
       "      <td>22.366850</td>\n",
       "      <td>204.920</td>\n",
       "      <td>532.0</td>\n",
       "      <td>342.000000</td>\n",
       "      <td>1.8045</td>\n",
       "      <td>120.719002</td>\n",
       "      <td>1.449803</td>\n",
       "    </tr>\n",
       "    <tr>\n",
       "      <th>4</th>\n",
       "      <td>-110.244800</td>\n",
       "      <td>23.451380</td>\n",
       "      <td>309.885</td>\n",
       "      <td>1841.0</td>\n",
       "      <td>1179.000000</td>\n",
       "      <td>0.2343</td>\n",
       "      <td>476.987213</td>\n",
       "      <td>15.672251</td>\n",
       "    </tr>\n",
       "    <tr>\n",
       "      <th>5</th>\n",
       "      <td>-110.220670</td>\n",
       "      <td>23.464930</td>\n",
       "      <td>224.475</td>\n",
       "      <td>570.3</td>\n",
       "      <td>554.799988</td>\n",
       "      <td>0.2756</td>\n",
       "      <td>201.878403</td>\n",
       "      <td>8.555740</td>\n",
       "    </tr>\n",
       "    <tr>\n",
       "      <th>7</th>\n",
       "      <td>-109.907306</td>\n",
       "      <td>22.890500</td>\n",
       "      <td>350.760</td>\n",
       "      <td>2253.3</td>\n",
       "      <td>1160.199951</td>\n",
       "      <td>0.5607</td>\n",
       "      <td>269.171204</td>\n",
       "      <td>27.600998</td>\n",
       "    </tr>\n",
       "    <tr>\n",
       "      <th>9</th>\n",
       "      <td>-110.054722</td>\n",
       "      <td>23.824722</td>\n",
       "      <td>332.605</td>\n",
       "      <td>1703.0</td>\n",
       "      <td>1017.799988</td>\n",
       "      <td>0.5088</td>\n",
       "      <td>559.021423</td>\n",
       "      <td>0.143061</td>\n",
       "    </tr>\n",
       "  </tbody>\n",
       "</table>\n",
       "</div>"
      ],
      "text/plain": [
       "     LONGITUD    LATITUD  ALC_mg/L  CONDUCT_mS/cm   SDT_M_mg/L  \\\n",
       "2 -102.288010  22.366850   204.920          532.0   342.000000   \n",
       "4 -110.244800  23.451380   309.885         1841.0  1179.000000   \n",
       "5 -110.220670  23.464930   224.475          570.3   554.799988   \n",
       "7 -109.907306  22.890500   350.760         2253.3  1160.199951   \n",
       "9 -110.054722  23.824722   332.605         1703.0  1017.799988   \n",
       "\n",
       "   FLUORUROS_mg/L    DUR_mg/L  N_NO3_mg/L  \n",
       "2          1.8045  120.719002    1.449803  \n",
       "4          0.2343  476.987213   15.672251  \n",
       "5          0.2756  201.878403    8.555740  \n",
       "7          0.5607  269.171204   27.600998  \n",
       "9          0.5088  559.021423    0.143061  "
      ]
     },
     "execution_count": 104,
     "metadata": {},
     "output_type": "execute_result"
    }
   ],
   "source": [
    "numerics = ['int64', 'int32', 'int64', 'float16', 'float32', 'float64']\n",
    "df_numeric = df.select_dtypes(include=numerics)\n",
    "df_numeric.head()"
   ]
  },
  {
   "cell_type": "code",
   "execution_count": 105,
   "metadata": {},
   "outputs": [
    {
     "data": {
      "text/plain": [
       "LONGITUD          0\n",
       "LATITUD           0\n",
       "ALC_mg/L          0\n",
       "CONDUCT_mS/cm     0\n",
       "SDT_M_mg/L        0\n",
       "FLUORUROS_mg/L    0\n",
       "DUR_mg/L          0\n",
       "N_NO3_mg/L        0\n",
       "dtype: int64"
      ]
     },
     "execution_count": 105,
     "metadata": {},
     "output_type": "execute_result"
    }
   ],
   "source": [
    "df_numeric.isna().sum()"
   ]
  },
  {
   "cell_type": "code",
   "execution_count": 106,
   "metadata": {},
   "outputs": [
    {
     "data": {
      "text/html": [
       "<div>\n",
       "<style scoped>\n",
       "    .dataframe tbody tr th:only-of-type {\n",
       "        vertical-align: middle;\n",
       "    }\n",
       "\n",
       "    .dataframe tbody tr th {\n",
       "        vertical-align: top;\n",
       "    }\n",
       "\n",
       "    .dataframe thead th {\n",
       "        text-align: right;\n",
       "    }\n",
       "</style>\n",
       "<table border=\"1\" class=\"dataframe\">\n",
       "  <thead>\n",
       "    <tr style=\"text-align: right;\">\n",
       "      <th></th>\n",
       "      <th>LONGITUD</th>\n",
       "      <th>LATITUD</th>\n",
       "      <th>ALC_mg/L</th>\n",
       "      <th>CONDUCT_mS/cm</th>\n",
       "      <th>SDT_M_mg/L</th>\n",
       "      <th>FLUORUROS_mg/L</th>\n",
       "      <th>DUR_mg/L</th>\n",
       "      <th>N_NO3_mg/L</th>\n",
       "    </tr>\n",
       "  </thead>\n",
       "  <tbody>\n",
       "    <tr>\n",
       "      <th>count</th>\n",
       "      <td>604.000000</td>\n",
       "      <td>604.000000</td>\n",
       "      <td>604.000000</td>\n",
       "      <td>604.000000</td>\n",
       "      <td>604.000000</td>\n",
       "      <td>604.000000</td>\n",
       "      <td>604.000000</td>\n",
       "      <td>604.000000</td>\n",
       "    </tr>\n",
       "    <tr>\n",
       "      <th>mean</th>\n",
       "      <td>-101.737853</td>\n",
       "      <td>23.332116</td>\n",
       "      <td>255.888642</td>\n",
       "      <td>1483.175662</td>\n",
       "      <td>1221.766357</td>\n",
       "      <td>1.221470</td>\n",
       "      <td>457.739136</td>\n",
       "      <td>5.586478</td>\n",
       "    </tr>\n",
       "    <tr>\n",
       "      <th>std</th>\n",
       "      <td>6.831866</td>\n",
       "      <td>3.733554</td>\n",
       "      <td>122.799179</td>\n",
       "      <td>1533.756739</td>\n",
       "      <td>3615.350830</td>\n",
       "      <td>1.587721</td>\n",
       "      <td>434.088531</td>\n",
       "      <td>10.651263</td>\n",
       "    </tr>\n",
       "    <tr>\n",
       "      <th>min</th>\n",
       "      <td>-116.664250</td>\n",
       "      <td>15.064110</td>\n",
       "      <td>26.640000</td>\n",
       "      <td>188.000000</td>\n",
       "      <td>139.399994</td>\n",
       "      <td>0.000000</td>\n",
       "      <td>21.940599</td>\n",
       "      <td>0.000000</td>\n",
       "    </tr>\n",
       "    <tr>\n",
       "      <th>25%</th>\n",
       "      <td>-104.916900</td>\n",
       "      <td>20.472502</td>\n",
       "      <td>182.730000</td>\n",
       "      <td>608.750000</td>\n",
       "      <td>432.400002</td>\n",
       "      <td>0.311025</td>\n",
       "      <td>149.107502</td>\n",
       "      <td>0.706121</td>\n",
       "    </tr>\n",
       "    <tr>\n",
       "      <th>50%</th>\n",
       "      <td>-102.268905</td>\n",
       "      <td>23.006460</td>\n",
       "      <td>231.077500</td>\n",
       "      <td>1132.000000</td>\n",
       "      <td>778.000000</td>\n",
       "      <td>0.635900</td>\n",
       "      <td>342.700806</td>\n",
       "      <td>2.645978</td>\n",
       "    </tr>\n",
       "    <tr>\n",
       "      <th>75%</th>\n",
       "      <td>-99.008530</td>\n",
       "      <td>25.521922</td>\n",
       "      <td>315.002500</td>\n",
       "      <td>1790.750000</td>\n",
       "      <td>1288.000000</td>\n",
       "      <td>1.659050</td>\n",
       "      <td>613.043503</td>\n",
       "      <td>5.879826</td>\n",
       "    </tr>\n",
       "    <tr>\n",
       "      <th>max</th>\n",
       "      <td>-86.868880</td>\n",
       "      <td>32.677713</td>\n",
       "      <td>1650.000000</td>\n",
       "      <td>18577.000000</td>\n",
       "      <td>82170.000000</td>\n",
       "      <td>15.424300</td>\n",
       "      <td>3810.692139</td>\n",
       "      <td>121.007812</td>\n",
       "    </tr>\n",
       "  </tbody>\n",
       "</table>\n",
       "</div>"
      ],
      "text/plain": [
       "         LONGITUD     LATITUD     ALC_mg/L  CONDUCT_mS/cm    SDT_M_mg/L  \\\n",
       "count  604.000000  604.000000   604.000000     604.000000    604.000000   \n",
       "mean  -101.737853   23.332116   255.888642    1483.175662   1221.766357   \n",
       "std      6.831866    3.733554   122.799179    1533.756739   3615.350830   \n",
       "min   -116.664250   15.064110    26.640000     188.000000    139.399994   \n",
       "25%   -104.916900   20.472502   182.730000     608.750000    432.400002   \n",
       "50%   -102.268905   23.006460   231.077500    1132.000000    778.000000   \n",
       "75%    -99.008530   25.521922   315.002500    1790.750000   1288.000000   \n",
       "max    -86.868880   32.677713  1650.000000   18577.000000  82170.000000   \n",
       "\n",
       "       FLUORUROS_mg/L     DUR_mg/L  N_NO3_mg/L  \n",
       "count      604.000000   604.000000  604.000000  \n",
       "mean         1.221470   457.739136    5.586478  \n",
       "std          1.587721   434.088531   10.651263  \n",
       "min          0.000000    21.940599    0.000000  \n",
       "25%          0.311025   149.107502    0.706121  \n",
       "50%          0.635900   342.700806    2.645978  \n",
       "75%          1.659050   613.043503    5.879826  \n",
       "max         15.424300  3810.692139  121.007812  "
      ]
     },
     "execution_count": 106,
     "metadata": {},
     "output_type": "execute_result"
    }
   ],
   "source": [
    "df_numeric.describe()"
   ]
  },
  {
   "cell_type": "code",
   "execution_count": 107,
   "metadata": {},
   "outputs": [],
   "source": [
    "target = ['SEMAFORO']\n",
    "features = [v for v in df.columns.values.tolist() if v not in target]\n",
    "target_df = df[target]\n",
    "features_df = df[features]"
   ]
  },
  {
   "cell_type": "code",
   "execution_count": 108,
   "metadata": {},
   "outputs": [],
   "source": [
    "not_numeric_cols = [key for key in dict(features_df.dtypes) if dict(features_df.dtypes)[key] not in numerics]\n",
    "new_numeric_df = pd.get_dummies(features_df, prefix=not_numeric_cols)"
   ]
  },
  {
   "cell_type": "code",
   "execution_count": 109,
   "metadata": {},
   "outputs": [],
   "source": [
    "final_df = new_numeric_df.copy()\n",
    "final_df['SEMAFORO'] = target_df\n",
    "final_df.to_csv('../data/data_subterraneos_clean.csv', encoding='ISO-8859-1', index=False)"
   ]
  },
  {
   "cell_type": "code",
   "execution_count": 110,
   "metadata": {},
   "outputs": [
    {
     "data": {
      "text/plain": [
       "LONGITUD            float64\n",
       "LATITUD             float64\n",
       "ALC_mg/L            float64\n",
       "CONDUCT_mS/cm       float64\n",
       "SDT_M_mg/L          float32\n",
       "                     ...   \n",
       "CUMPLE_CON_MN_NO      uint8\n",
       "CUMPLE_CON_MN_SI      uint8\n",
       "CUMPLE_CON_FE_NO      uint8\n",
       "CUMPLE_CON_FE_SI      uint8\n",
       "SEMAFORO             object\n",
       "Length: 212, dtype: object"
      ]
     },
     "execution_count": 110,
     "metadata": {},
     "output_type": "execute_result"
    }
   ],
   "source": [
    "final_df.dtypes"
   ]
  },
  {
   "cell_type": "code",
   "execution_count": 111,
   "metadata": {},
   "outputs": [
    {
     "data": {
      "text/plain": [
       "<AxesSubplot:xlabel='ALC_mg/L'>"
      ]
     },
     "execution_count": 111,
     "metadata": {},
     "output_type": "execute_result"
    },
    {
     "data": {
      "image/png": "[encoded data removed]",
      "text/plain": [
       "<Figure size 640x480 with 1 Axes>"
      ]
     },
     "metadata": {},
     "output_type": "display_data"
    }
   ],
   "source": [
    "sns.boxplot(x=final_df['ALC_mg/L'])"
   ]
  },
  {
   "cell_type": "code",
   "execution_count": 112,
   "metadata": {},
   "outputs": [
    {
     "name": "stdout",
     "output_type": "stream",
     "text": [
      "Number of outliers 151\n"
     ]
    }
   ],
   "source": [
    "quantile_ALC_3 = final_df['ALC_mg/L'].quantile(0.75)\n",
    "outliers = (final_df['ALC_mg/L'] > quantile_ALC_3).sum()\n",
    "print(f'Number of outliers {outliers}')"
   ]
  },
  {
   "cell_type": "code",
   "execution_count": 113,
   "metadata": {},
   "outputs": [
    {
     "data": {
      "text/plain": [
       "<AxesSubplot:xlabel='CONDUCT_mS/cm'>"
      ]
     },
     "execution_count": 113,
     "metadata": {},
     "output_type": "execute_result"
    },
    {
     "data": {
      "image/png": "[encoded data removed]",
      "text/plain": [
       "<Figure size 640x480 with 1 Axes>"
      ]
     },
     "metadata": {},
     "output_type": "display_data"
    }
   ],
   "source": [
    "sns.boxplot(x=final_df['CONDUCT_mS/cm'])"
   ]
  },
  {
   "cell_type": "code",
   "execution_count": 114,
   "metadata": {},
   "outputs": [
    {
     "name": "stdout",
     "output_type": "stream",
     "text": [
      "Number of outliers 151\n"
     ]
    }
   ],
   "source": [
    "quantile_CONDUCT_3 = final_df['CONDUCT_mS/cm'].quantile(0.75)\n",
    "outliers = (final_df['CONDUCT_mS/cm'] > quantile_CONDUCT_3).sum()\n",
    "print(f'Number of outliers {outliers}')"
   ]
  },
  {
   "cell_type": "code",
   "execution_count": 115,
   "metadata": {},
   "outputs": [
    {
     "data": {
      "text/plain": [
       "<AxesSubplot:xlabel='SDT_M_mg/L'>"
      ]
     },
     "execution_count": 115,
     "metadata": {},
     "output_type": "execute_result"
    },
    {
     "data": {
      "image/png": "[encoded data removed]",
      "text/plain": [
       "<Figure size 640x480 with 1 Axes>"
      ]
     },
     "metadata": {},
     "output_type": "display_data"
    }
   ],
   "source": [
    "sns.boxplot(x=final_df['SDT_M_mg/L'])"
   ]
  },
  {
   "cell_type": "code",
   "execution_count": 116,
   "metadata": {},
   "outputs": [
    {
     "name": "stdout",
     "output_type": "stream",
     "text": [
      "Number of outliers 150\n"
     ]
    }
   ],
   "source": [
    "quantile_SDT_M_mg_3 = final_df['SDT_M_mg/L'].quantile(0.75)\n",
    "outliers = (final_df['SDT_M_mg/L'] > quantile_SDT_M_mg_3).sum()\n",
    "print(f'Number of outliers {outliers}')"
   ]
  },
  {
   "cell_type": "code",
   "execution_count": 117,
   "metadata": {},
   "outputs": [
    {
     "data": {
      "text/plain": [
       "<AxesSubplot:xlabel='DUR_mg/L'>"
      ]
     },
     "execution_count": 117,
     "metadata": {},
     "output_type": "execute_result"
    },
    {
     "data": {
      "image/png": "[encoded data removed]",
      "text/plain": [
       "<Figure size 640x480 with 1 Axes>"
      ]
     },
     "metadata": {},
     "output_type": "display_data"
    }
   ],
   "source": [
    "sns.boxplot(x=final_df['DUR_mg/L'])"
   ]
  },
  {
   "cell_type": "code",
   "execution_count": 118,
   "metadata": {},
   "outputs": [
    {
     "name": "stdout",
     "output_type": "stream",
     "text": [
      "Number of outliers 151\n"
     ]
    }
   ],
   "source": [
    "quantile_DUR_mg_3 = final_df['DUR_mg/L'].quantile(0.75)\n",
    "outliers = (final_df['DUR_mg/L'] > quantile_DUR_mg_3).sum()\n",
    "print(f'Number of outliers {outliers}')"
   ]
  },
  {
   "cell_type": "code",
   "execution_count": 119,
   "metadata": {},
   "outputs": [
    {
     "data": {
      "text/plain": [
       "<AxesSubplot:xlabel='N_NO3_mg/L'>"
      ]
     },
     "execution_count": 119,
     "metadata": {},
     "output_type": "execute_result"
    },
    {
     "data": {
      "image/png": "[encoded data removed]",
      "text/plain": [
       "<Figure size 640x480 with 1 Axes>"
      ]
     },
     "metadata": {},
     "output_type": "display_data"
    }
   ],
   "source": [
    "sns.boxplot(x=final_df['N_NO3_mg/L'])"
   ]
  },
  {
   "cell_type": "code",
   "execution_count": 123,
   "metadata": {},
   "outputs": [
    {
     "name": "stdout",
     "output_type": "stream",
     "text": [
      "Number of outliers 151\n"
     ]
    }
   ],
   "source": [
    "quantile_N_NO3_mg_3 = final_df['N_NO3_mg/L'].quantile(0.75)\n",
    "outliers = (final_df['N_NO3_mg/L'] > quantile_N_NO3_mg_3).sum()\n",
    "print(f'Number of outliers {outliers}')"
   ]
  },
  {
   "cell_type": "code",
   "execution_count": 122,
   "metadata": {},
   "outputs": [
    {
     "data": {
      "text/plain": [
       "<AxesSubplot:>"
      ]
     },
     "execution_count": 122,
     "metadata": {},
     "output_type": "execute_result"
    },
    {
     "data": {
      "image/png": "[encoded data removed]",
      "text/plain": [
       "<Figure size 640x480 with 2 Axes>"
      ]
     },
     "metadata": {},
     "output_type": "display_data"
    }
   ],
   "source": [
    "sns.heatmap(df_numeric.corr(), annot=True, cmap='rocket_r')"
   ]
  },
  {
   "cell_type": "code",
   "execution_count": null,
   "metadata": {},
   "outputs": [],
   "source": []
  }
 ],
 "metadata": {
  "kernelspec": {
   "display_name": "Python 3.9.7 ('base')",
   "language": "python",
   "name": "python3"
  },
  "language_info": {
   "codemirror_mode": {
    "name": "ipython",
    "version": 3
   },
   "file_extension": ".py",
   "mimetype": "text/x-python",
   "name": "python",
   "nbconvert_exporter": "python",
   "pygments_lexer": "ipython3",
   "version": "3.8.5"
  },
  "orig_nbformat": 4,
  "vscode": {
   "interpreter": {
    "hash": "b1436fac1f0f51237410681d9b1fa82da84edb699ffdaf1934a9432f3cf8cdc3"
   }
  }
 },
 "nbformat": 4,
 "nbformat_minor": 2
}
